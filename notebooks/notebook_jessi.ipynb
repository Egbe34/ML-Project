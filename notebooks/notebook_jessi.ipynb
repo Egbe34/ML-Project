{
 "cells": [
  {
   "cell_type": "code",
   "execution_count": null,
   "id": "5df4ef61-809d-49f4-a765-96638ff9434a",
   "metadata": {},
   "outputs": [],
   "source": [
    "import pandas as pd\n",
    "import yaml\n",
    "try:\n",
    "    with open(\"../config.yaml\", \"r\") as file:\n",
    "        config = yaml.safe_load(file)\n",
    "except:\n",
    "    print(\"Yaml configuration file not found!\")"
   ]
  },
  {
   "cell_type": "code",
   "execution_count": null,
   "id": "a53e733f-cd70-4aaf-8655-96d4d9c38b6f",
   "metadata": {},
   "outputs": [],
   "source": [
    "config"
   ]
  },
  {
   "cell_type": "code",
   "execution_count": null,
   "id": "85169faa-b422-4373-b473-14ad2f31d377",
   "metadata": {},
   "outputs": [],
   "source": [
    "df = pd.read_csv(config [\"data\"][\"raw\"][\"file_raw\"])\n",
    "df"
   ]
  },
  {
   "cell_type": "code",
   "execution_count": null,
   "id": "9e143452-00ea-4503-9310-9a29370a0aaa",
   "metadata": {},
   "outputs": [],
   "source": [
    "df.isna().sum()"
   ]
  },
  {
   "cell_type": "code",
   "execution_count": null,
   "id": "55f601dc-1a59-4b10-b0ae-0f964a888ce0",
   "metadata": {},
   "outputs": [],
   "source": [
    "average_bmi = df['bmi'].mean()\n",
    "\n",
    "df[\"bmi\"] = df[\"bmi\"].fillna(average_bmi)\n",
    "df"
   ]
  },
  {
   "cell_type": "code",
   "execution_count": null,
   "id": "45659503-7678-447e-ac6e-b04142599667",
   "metadata": {},
   "outputs": [],
   "source": [
    "df.isna().sum()"
   ]
  },
  {
   "cell_type": "code",
   "execution_count": null,
   "id": "c7db8c96-17a0-4adf-a7fd-b2240d20f754",
   "metadata": {},
   "outputs": [],
   "source": [
    "df = df.drop(\"id\", axis=1)"
   ]
  },
  {
   "cell_type": "code",
   "execution_count": null,
   "id": "a6daeb58-1d1a-4d49-b71a-1806ac61d809",
   "metadata": {},
   "outputs": [],
   "source": [
    "from sklearn.preprocessing import OneHotEncoder\n",
    "\n",
    "ohe = OneHotEncoder(sparse_output=False)\n",
    "\n",
    "ohe.fit(df[['gender', 'ever_married', 'work_type', 'Residence_type', 'smoking_status']])\n",
    "df_ohe = ohe.transform(df[['gender', 'ever_married', 'work_type', 'Residence_type', 'smoking_status']])\n",
    "df_ohe"
   ]
  },
  {
   "cell_type": "code",
   "execution_count": null,
   "id": "cde23266-03a0-4c53-9ff6-14398a3b0893",
   "metadata": {},
   "outputs": [],
   "source": [
    "df_ohe = pd.DataFrame(df_ohe, columns=ohe.get_feature_names_out(), index=df.index)\n",
    "df_ohe"
   ]
  },
  {
   "cell_type": "code",
   "execution_count": null,
   "id": "e6a1ae2c-2e95-4d11-ba59-648ad6de8d8b",
   "metadata": {},
   "outputs": [],
   "source": [
    "df_num = df.select_dtypes(include=['number'])\n",
    "\n",
    "df_fin = pd.concat([df_num, df_ohe], axis = 1)\n",
    "\n",
    "df_model = df_num.drop(\"stroke\", axis=1)\n",
    "\n",
    "target = df.stroke\n"
   ]
  },
  {
   "cell_type": "code",
   "execution_count": null,
   "id": "46bd675f-fe68-4c30-b997-8063264f5976",
   "metadata": {},
   "outputs": [],
   "source": [
    "import seaborn as sns\n",
    "import matplotlib.pyplot as plt \n",
    "import numpy as np\n",
    "\n",
    "sns.boxplot(x = 'stroke', y = 'age', data = df_fin)\n",
    "plt.show()"
   ]
  },
  {
   "cell_type": "code",
   "execution_count": null,
   "id": "2e719fa7-e59b-4d34-b59c-39b8c3e077a2",
   "metadata": {},
   "outputs": [],
   "source": [
    "sns.boxplot(x = 'stroke', y = 'avg_glucose_level', data = df_fin)\n",
    "plt.show()"
   ]
  },
  {
   "cell_type": "code",
   "execution_count": null,
   "id": "5d447014-577a-4775-b1ad-2324a601af54",
   "metadata": {},
   "outputs": [],
   "source": [
    "sns.boxplot(x = 'stroke', y = 'bmi', data = df_fin)\n",
    "plt.show()"
   ]
  },
  {
   "cell_type": "code",
   "execution_count": null,
   "id": "c617ff96-ce85-4d1f-9f28-f795e215a16b",
   "metadata": {},
   "outputs": [],
   "source": [
    "import seaborn as sns\n",
    "import matplotlib.pyplot as plt\n",
    "import numpy as np\n",
    "\n",
    "# Assuming df_fin is your existing DataFrame\n",
    "corr = np.abs(df_fin.corr())\n",
    "\n",
    "mask = np.zeros_like(corr, dtype=bool)\n",
    "mask[np.triu_indices_from(mask)] = True\n",
    "\n",
    "# Set up the matplotlib figure\n",
    "f, ax = plt.subplots(figsize=(10, 10))\n",
    "\n",
    "# Generate a custom diverging colormap\n",
    "cmap = sns.diverging_palette(220, 10, as_cmap=True)\n",
    "\n",
    "# Draw the heatmap with adjusted annotation font size and mask\n",
    "sns.heatmap(\n",
    "    corr,\n",
    "    mask=mask,\n",
    "    cmap=cmap,\n",
    "    vmax=1,\n",
    "    square=True,\n",
    "    linewidths=.5,\n",
    "    cbar_kws={\"shrink\": .5},\n",
    "    annot=True,\n",
    "    annot_kws={\"size\": 8},  # Adjust the font size for annotation values\n",
    "    fmt=\".2f\"  # Control the format of the annotation values\n",
    ")\n",
    "\n",
    "# Customize axis labels for better readability\n",
    "plt.xticks(fontsize=10, rotation=45, ha=\"right\")  # Adjust x-axis labels\n",
    "plt.yticks(fontsize=10)  # Adjust y-axis labels\n",
    "\n",
    "plt.show()"
   ]
  },
  {
   "cell_type": "code",
   "execution_count": null,
   "id": "e8a32bf0-491b-42bf-9d44-9bc047a61049",
   "metadata": {},
   "outputs": [],
   "source": [
    "df_num = df.select_dtypes(include=['number'])\n",
    "df_num = df_num.drop(\"id\", axis=1)\n",
    "df_num"
   ]
  },
  {
   "cell_type": "code",
   "execution_count": null,
   "id": "45102cd7-bb46-4a64-bfd6-acdc7dabd619",
   "metadata": {},
   "outputs": [],
   "source": [
    "df.dtypes"
   ]
  },
  {
   "cell_type": "code",
   "execution_count": null,
   "id": "2b6a1ab8-366e-4bb3-b2d7-a0de6fabc2a9",
   "metadata": {},
   "outputs": [],
   "source": []
  }
 ],
 "metadata": {
  "kernelspec": {
   "display_name": "Python [conda env:base] *",
   "language": "python",
   "name": "conda-base-py"
  },
  "language_info": {
   "codemirror_mode": {
    "name": "ipython",
    "version": 3
   },
   "file_extension": ".py",
   "mimetype": "text/x-python",
   "name": "python",
   "nbconvert_exporter": "python",
   "pygments_lexer": "ipython3",
   "version": "3.12.7"
  }
 },
 "nbformat": 4,
 "nbformat_minor": 5
}
