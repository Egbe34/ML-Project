{
 "cells": [
  {
   "cell_type": "code",
   "execution_count": null,
   "id": "5df4ef61-809d-49f4-a765-96638ff9434a",
   "metadata": {},
   "outputs": [],
   "source": [
    "# import data\n",
    "import pandas as pd\n",
    "import yaml\n",
    "try:\n",
    "    with open(\"../config.yaml\", \"r\") as file:\n",
    "        config = yaml.safe_load(file)\n",
    "except:\n",
    "    print(\"Yaml configuration file not found!\")"
   ]
  },
  {
   "cell_type": "code",
   "execution_count": null,
   "id": "a53e733f-cd70-4aaf-8655-96d4d9c38b6f",
   "metadata": {},
   "outputs": [],
   "source": [
    "config"
   ]
  },
  {
   "cell_type": "code",
   "execution_count": null,
   "id": "85169faa-b422-4373-b473-14ad2f31d377",
   "metadata": {},
   "outputs": [],
   "source": [
    "df = pd.read_csv(config [\"data\"][\"raw\"][\"file_raw\"])\n",
    "df"
   ]
  },
  {
   "cell_type": "code",
   "execution_count": null,
   "id": "572a3a85-44eb-4e01-a5f2-fdcc16a2453c",
   "metadata": {},
   "outputs": [],
   "source": [
    "# Data Cleaning"
   ]
  },
  {
   "cell_type": "code",
   "execution_count": null,
   "id": "3e176113-f443-4c6d-933e-dff67b7f098a",
   "metadata": {},
   "outputs": [],
   "source": [
    "# check datatypes\n",
    "df.dtypes"
   ]
  },
  {
   "cell_type": "code",
   "execution_count": null,
   "id": "9e143452-00ea-4503-9310-9a29370a0aaa",
   "metadata": {},
   "outputs": [],
   "source": [
    "# check for null-values\n",
    "df.isna().sum()"
   ]
  },
  {
   "cell_type": "code",
   "execution_count": null,
   "id": "55f601dc-1a59-4b10-b0ae-0f964a888ce0",
   "metadata": {},
   "outputs": [],
   "source": [
    "# fill null-values with mean\n",
    "average_bmi = df['bmi'].mean()\n",
    "df[\"bmi\"] = df[\"bmi\"].fillna(average_bmi)\n",
    "df"
   ]
  },
  {
   "cell_type": "code",
   "execution_count": null,
   "id": "45659503-7678-447e-ac6e-b04142599667",
   "metadata": {},
   "outputs": [],
   "source": [
    "df.isna().sum()"
   ]
  },
  {
   "cell_type": "code",
   "execution_count": null,
   "id": "c7db8c96-17a0-4adf-a7fd-b2240d20f754",
   "metadata": {},
   "outputs": [],
   "source": [
    "# drop \"id\" bc it will disturb training the model\n",
    "df = df.drop(\"id\", axis=1)"
   ]
  },
  {
   "cell_type": "code",
   "execution_count": null,
   "id": "ec10d375-8e29-4e1f-86ef-594a2ccdad20",
   "metadata": {},
   "outputs": [],
   "source": [
    "# EDA"
   ]
  },
  {
   "cell_type": "code",
   "execution_count": null,
   "id": "46bd675f-fe68-4c30-b997-8063264f5976",
   "metadata": {},
   "outputs": [],
   "source": [
    "# check numerical values for outliers\n",
    "import seaborn as sns\n",
    "import matplotlib.pyplot as plt \n",
    "import numpy as np\n",
    "\n",
    "sns.boxplot(x = 'stroke', y = 'age', data = df)\n",
    "plt.show()"
   ]
  },
  {
   "cell_type": "code",
   "execution_count": null,
   "id": "2e719fa7-e59b-4d34-b59c-39b8c3e077a2",
   "metadata": {},
   "outputs": [],
   "source": [
    "sns.boxplot(x = 'stroke', y = 'avg_glucose_level', data = df)\n",
    "plt.show()"
   ]
  },
  {
   "cell_type": "code",
   "execution_count": null,
   "id": "5d447014-577a-4775-b1ad-2324a601af54",
   "metadata": {},
   "outputs": [],
   "source": [
    "sns.boxplot(x = 'stroke', y = 'bmi', data = df)\n",
    "plt.show()"
   ]
  },
  {
   "cell_type": "code",
   "execution_count": null,
   "id": "4112342b-2dfb-48d7-a883-d9c04a1ec1fd",
   "metadata": {},
   "outputs": [],
   "source": [
    "# remove outliers for age, only for stroke = 1\n",
    "category_to_clean = 1\n",
    "subset = df[df['stroke'] == category_to_clean]\n",
    "\n",
    "Q1 = subset['age'].quantile(0.25)\n",
    "Q3 = subset['age'].quantile(0.75)\n",
    "IQR = Q3 - Q1\n",
    "\n",
    "lower_bound = Q1 - 1.5 * IQR\n",
    "upper_bound = Q3 + 1.5 * IQR\n",
    "\n",
    "cleaned_subset = subset[(subset['age'] >= lower_bound) & (subset['age'] <= upper_bound)]\n",
    "\n",
    "df_cleaned = pd.concat([df[df['stroke'] != category_to_clean], cleaned_subset], ignore_index=True)\n",
    "\n",
    "df_cleaned.info()"
   ]
  },
  {
   "cell_type": "code",
   "execution_count": null,
   "id": "d4a7e760-6270-470a-971d-815efbadf724",
   "metadata": {},
   "outputs": [],
   "source": [
    "# remove outliers for bmi\n",
    "Q1 = df['bmi'].quantile(0.25)\n",
    "Q3 = df['bmi'].quantile(0.75)\n",
    "IQR = Q3 - Q1\n",
    "\n",
    "lower_bound = Q1 - 2 * IQR\n",
    "upper_bound = Q3 + 6 * IQR\n",
    "\n",
    "df_cleaned = df_cleaned[(df_cleaned['bmi'] >= lower_bound) & (df['bmi'] <= upper_bound)]\n",
    "\n",
    "df_cleaned.info()"
   ]
  },
  {
   "cell_type": "code",
   "execution_count": null,
   "id": "166a09af-3689-4dde-9ebb-d17e97ac5f0e",
   "metadata": {},
   "outputs": [],
   "source": [
    "# check numerical values for distribution"
   ]
  },
  {
   "cell_type": "code",
   "execution_count": null,
   "id": "22cf7391-c807-4d8d-ae39-c1c010827984",
   "metadata": {},
   "outputs": [],
   "source": [
    "import statsmodels.api as sm\n",
    "sm.qqplot(df_cleaned['age'].values, fit=True, line='45')\n",
    "plt.show()"
   ]
  },
  {
   "cell_type": "code",
   "execution_count": null,
   "id": "c226b725-154c-45e7-8829-06ff5a247e32",
   "metadata": {},
   "outputs": [],
   "source": [
    "sm.qqplot(df_cleaned['avg_glucose_level'].values, fit=True, line='45')\n",
    "plt.show()"
   ]
  },
  {
   "cell_type": "code",
   "execution_count": null,
   "id": "a00bbcf8-456a-4cec-8044-4ce05c40b6f2",
   "metadata": {},
   "outputs": [],
   "source": [
    "sm.qqplot(df_cleaned['bmi'].values, fit=True, line='45')\n",
    "plt.show()"
   ]
  },
  {
   "cell_type": "code",
   "execution_count": null,
   "id": "9137ad73-ff23-441b-8d1f-16c3fc6b3ae6",
   "metadata": {},
   "outputs": [],
   "source": [
    "# Split dataset"
   ]
  },
  {
   "cell_type": "code",
   "execution_count": null,
   "id": "8006159e-e919-44f4-82c2-7f4a1746486f",
   "metadata": {},
   "outputs": [],
   "source": [
    "features = df_cleaned.drop(columns = [\"stroke\"])\n",
    "target = df_cleaned[\"stroke\"]"
   ]
  },
  {
   "cell_type": "code",
   "execution_count": null,
   "id": "6d3947d6-1f04-44c9-9ec9-328ab565391a",
   "metadata": {},
   "outputs": [],
   "source": [
    "from sklearn.model_selection import train_test_split\n",
    "X_train, X_test, y_train, y_test = train_test_split(features, target, test_size = 0.20, random_state=0)"
   ]
  },
  {
   "cell_type": "code",
   "execution_count": null,
   "id": "eb0e422b-e959-4af1-a919-d388c6b15ffa",
   "metadata": {},
   "outputs": [],
   "source": [
    "X_train_num = X_train.select_dtypes(\"number\")\n",
    "X_test_num = X_test.select_dtypes(\"number\")"
   ]
  },
  {
   "cell_type": "code",
   "execution_count": null,
   "id": "74db9e10-cf07-46bd-9709-62d5806a9b4e",
   "metadata": {},
   "outputs": [],
   "source": [
    "# Apply a power transform featurewise to make avg_glucose_level and bmi more Gaussian-like\n",
    "from sklearn.preprocessing import PowerTransformer\n",
    "pt = PowerTransformer()"
   ]
  },
  {
   "cell_type": "code",
   "execution_count": null,
   "id": "90531993-8cb2-4575-a2e2-fdc7e773be63",
   "metadata": {},
   "outputs": [],
   "source": [
    "pt.fit(X_train_num)\n",
    "\n",
    "X_train_trans = pt.transform(X_train_num)\n",
    "X_test_trans = pt.transform(X_test_num)"
   ]
  },
  {
   "cell_type": "code",
   "execution_count": null,
   "id": "5e7505bc-6f54-43bd-9b89-6b1f9c52584c",
   "metadata": {},
   "outputs": [],
   "source": [
    "X_train_trans = pd.DataFrame(X_train_trans, columns=X_train_num.columns, index=X_train_num.index )\n",
    "X_train_trans.head()"
   ]
  },
  {
   "cell_type": "code",
   "execution_count": null,
   "id": "4728d1b5-8e96-40c2-9a24-a876585282cb",
   "metadata": {},
   "outputs": [],
   "source": [
    "X_test_trans = pd.DataFrame(X_test_trans, columns=X_test_num.columns, index=X_test_num.index )\n",
    "X_test_trans.head()"
   ]
  },
  {
   "cell_type": "code",
   "execution_count": null,
   "id": "8fd76d58-c02b-480b-b9d2-9ddc524e90cc",
   "metadata": {},
   "outputs": [],
   "source": [
    "sm.qqplot(X_train_trans['age'].values, fit=True, line='45')\n",
    "plt.show()"
   ]
  },
  {
   "cell_type": "code",
   "execution_count": null,
   "id": "d62ba70d-d399-449a-a915-61eea9d83b03",
   "metadata": {},
   "outputs": [],
   "source": [
    "sm.qqplot(X_train_trans['avg_glucose_level'].values, fit=True, line='45')\n",
    "plt.show()"
   ]
  },
  {
   "cell_type": "code",
   "execution_count": null,
   "id": "5d289c73-be23-4f55-90ab-d10c0de2d033",
   "metadata": {},
   "outputs": [],
   "source": [
    "sm.qqplot(X_train_trans['bmi'].values, fit=True, line='45')\n",
    "plt.show()"
   ]
  },
  {
   "cell_type": "code",
   "execution_count": null,
   "id": "2a93ddad-7be2-4507-a96e-2ebb918f3843",
   "metadata": {},
   "outputs": [],
   "source": [
    "# Identify correlations"
   ]
  },
  {
   "cell_type": "code",
   "execution_count": null,
   "id": "8a7c083c-e9ce-47af-a1fc-c235f241e84d",
   "metadata": {},
   "outputs": [],
   "source": [
    "# create datasets with targets\n",
    "#X_train_trans and "
   ]
  },
  {
   "cell_type": "code",
   "execution_count": null,
   "id": "219c4601-8bb3-4258-a06a-ac6380f66a9d",
   "metadata": {},
   "outputs": [],
   "source": [
    "import scipy.stats as st\n",
    "\n",
    "df_stroke = df[df[\"stroke\"] == 1][[\"age\", \"avg_glucose_level\", \"bmi\"]]\n",
    "df_no_stroke = df[df[\"stroke\"] == 0][[\"age\", \"avg_glucose_level\", \"bmi\"]]\n",
    "\n",
    "#Set the hypothesis\n",
    "\n",
    "#H0: df_stroke = df_no_stroke\n",
    "#H1: df_stroke != df_no_stroke\n",
    "\n",
    "alpha = 0.05\n",
    "\n",
    "st.f_oneway(df_stroke, df_no_stroke)"
   ]
  },
  {
   "cell_type": "code",
   "execution_count": null,
   "id": "41462fa0-89ca-46fa-8ca4-224c91300d90",
   "metadata": {},
   "outputs": [],
   "source": [
    "# Chi test for target and categorical"
   ]
  },
  {
   "cell_type": "code",
   "execution_count": null,
   "id": "c617ff96-ce85-4d1f-9f28-f795e215a16b",
   "metadata": {},
   "outputs": [],
   "source": [
    "import seaborn as sns\n",
    "import matplotlib.pyplot as plt\n",
    "import numpy as np\n",
    "\n",
    "# Assuming df_fin is your existing DataFrame\n",
    "corr = np.abs(df_cleaned.corr())\n",
    "\n",
    "mask = np.zeros_like(corr, dtype=bool)\n",
    "mask[np.triu_indices_from(mask)] = True\n",
    "\n",
    "# Set up the matplotlib figure\n",
    "f, ax = plt.subplots(figsize=(10, 10))\n",
    "\n",
    "# Generate a custom diverging colormap\n",
    "cmap = sns.diverging_palette(220, 10, as_cmap=True)\n",
    "\n",
    "# Draw the heatmap with adjusted annotation font size and mask\n",
    "sns.heatmap(\n",
    "    corr,\n",
    "    mask=mask,\n",
    "    cmap=cmap,\n",
    "    vmax=1,\n",
    "    square=True,\n",
    "    linewidths=.5,\n",
    "    cbar_kws={\"shrink\": .5},\n",
    "    annot=True,\n",
    "    annot_kws={\"size\": 8},  # Adjust the font size for annotation values\n",
    "    fmt=\".2f\"  # Control the format of the annotation values\n",
    ")\n",
    "\n",
    "# Customize axis labels for better readability\n",
    "plt.xticks(fontsize=10, rotation=45, ha=\"right\")  # Adjust x-axis labels\n",
    "plt.yticks(fontsize=10)  # Adjust y-axis labels\n",
    "\n",
    "plt.show()"
   ]
  },
  {
   "cell_type": "code",
   "execution_count": null,
   "id": "2b6a1ab8-366e-4bb3-b2d7-a0de6fabc2a9",
   "metadata": {},
   "outputs": [],
   "source": []
  }
 ],
 "metadata": {
  "kernelspec": {
   "display_name": "Python [conda env:base] *",
   "language": "python",
   "name": "conda-base-py"
  },
  "language_info": {
   "codemirror_mode": {
    "name": "ipython",
    "version": 3
   },
   "file_extension": ".py",
   "mimetype": "text/x-python",
   "name": "python",
   "nbconvert_exporter": "python",
   "pygments_lexer": "ipython3",
   "version": "3.12.3"
  }
 },
 "nbformat": 4,
 "nbformat_minor": 5
}
