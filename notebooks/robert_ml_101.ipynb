{
 "cells": [
  {
   "cell_type": "code",
   "execution_count": 54,
   "metadata": {},
   "outputs": [],
   "source": [
    "import optuna\n",
    "import optuna.visualization as vis\n",
    "import time\n",
    "\n",
    "import scipy.stats as st\n",
    "\n",
    "import pandas as pd\n",
    "import numpy as np\n",
    "\n",
    "import matplotlib.pyplot as plt\n",
    "import seaborn as sns\n",
    "\n",
    "from sklearn.model_selection import train_test_split,cross_val_score,GridSearchCV, RandomizedSearchCV\n",
    "from sklearn.utils import resample\n",
    "\n",
    "from sklearn.tree import DecisionTreeRegressor,DecisionTreeClassifier\n",
    "from sklearn.neighbors import KNeighborsRegressor,KNeighborsClassifier\n",
    "\n",
    "\n",
    "from sklearn.preprocessing import MinMaxScaler, StandardScaler,OneHotEncoder\n",
    "from sklearn.metrics import r2_score, mean_absolute_error, mean_squared_error, root_mean_squared_error, make_scorer,classification_report\n",
    "\n",
    "\n",
    "import yaml\n",
    "\n",
    "try:\n",
    "    with open(\"../config.yaml\", \"r\") as file:\n",
    "        config = yaml.safe_load(file)\n",
    "except:\n",
    "    print(\"Yaml configuration file not found!\")"
   ]
  },
  {
   "cell_type": "code",
   "execution_count": 3,
   "metadata": {},
   "outputs": [
    {
     "data": {
      "text/plain": [
       "{'data': {'raw': {'file_raw': '../data/raw/healthcare-dataset-stroke-data.csv'},\n",
       "  'clean': {'file_clean': '../data/clean/clean.csv'}}}"
      ]
     },
     "execution_count": 3,
     "metadata": {},
     "output_type": "execute_result"
    }
   ],
   "source": [
    "config"
   ]
  },
  {
   "cell_type": "code",
   "execution_count": 55,
   "metadata": {},
   "outputs": [
    {
     "data": {
      "application/vnd.microsoft.datawrangler.viewer.v0+json": {
       "columns": [
        {
         "name": "index",
         "rawType": "int64",
         "type": "integer"
        },
        {
         "name": "id",
         "rawType": "int64",
         "type": "integer"
        },
        {
         "name": "gender",
         "rawType": "object",
         "type": "string"
        },
        {
         "name": "age",
         "rawType": "float64",
         "type": "float"
        },
        {
         "name": "hypertension",
         "rawType": "int64",
         "type": "integer"
        },
        {
         "name": "heart_disease",
         "rawType": "int64",
         "type": "integer"
        },
        {
         "name": "ever_married",
         "rawType": "object",
         "type": "string"
        },
        {
         "name": "work_type",
         "rawType": "object",
         "type": "string"
        },
        {
         "name": "Residence_type",
         "rawType": "object",
         "type": "string"
        },
        {
         "name": "avg_glucose_level",
         "rawType": "float64",
         "type": "float"
        },
        {
         "name": "bmi",
         "rawType": "float64",
         "type": "float"
        },
        {
         "name": "smoking_status",
         "rawType": "object",
         "type": "string"
        },
        {
         "name": "stroke",
         "rawType": "int64",
         "type": "integer"
        }
       ],
       "ref": "776e7b69-4d79-4f91-be37-1827a3f29588",
       "rows": [
        [
         "0",
         "9046",
         "Male",
         "67.0",
         "0",
         "1",
         "Yes",
         "Private",
         "Urban",
         "228.69",
         "36.6",
         "formerly smoked",
         "1"
        ],
        [
         "1",
         "51676",
         "Female",
         "61.0",
         "0",
         "0",
         "Yes",
         "Self-employed",
         "Rural",
         "202.21",
         null,
         "never smoked",
         "1"
        ],
        [
         "2",
         "31112",
         "Male",
         "80.0",
         "0",
         "1",
         "Yes",
         "Private",
         "Rural",
         "105.92",
         "32.5",
         "never smoked",
         "1"
        ],
        [
         "3",
         "60182",
         "Female",
         "49.0",
         "0",
         "0",
         "Yes",
         "Private",
         "Urban",
         "171.23",
         "34.4",
         "smokes",
         "1"
        ],
        [
         "4",
         "1665",
         "Female",
         "79.0",
         "1",
         "0",
         "Yes",
         "Self-employed",
         "Rural",
         "174.12",
         "24.0",
         "never smoked",
         "1"
        ]
       ],
       "shape": {
        "columns": 12,
        "rows": 5
       }
      },
      "text/html": [
       "<div>\n",
       "<style scoped>\n",
       "    .dataframe tbody tr th:only-of-type {\n",
       "        vertical-align: middle;\n",
       "    }\n",
       "\n",
       "    .dataframe tbody tr th {\n",
       "        vertical-align: top;\n",
       "    }\n",
       "\n",
       "    .dataframe thead th {\n",
       "        text-align: right;\n",
       "    }\n",
       "</style>\n",
       "<table border=\"1\" class=\"dataframe\">\n",
       "  <thead>\n",
       "    <tr style=\"text-align: right;\">\n",
       "      <th></th>\n",
       "      <th>id</th>\n",
       "      <th>gender</th>\n",
       "      <th>age</th>\n",
       "      <th>hypertension</th>\n",
       "      <th>heart_disease</th>\n",
       "      <th>ever_married</th>\n",
       "      <th>work_type</th>\n",
       "      <th>Residence_type</th>\n",
       "      <th>avg_glucose_level</th>\n",
       "      <th>bmi</th>\n",
       "      <th>smoking_status</th>\n",
       "      <th>stroke</th>\n",
       "    </tr>\n",
       "  </thead>\n",
       "  <tbody>\n",
       "    <tr>\n",
       "      <th>0</th>\n",
       "      <td>9046</td>\n",
       "      <td>Male</td>\n",
       "      <td>67.0</td>\n",
       "      <td>0</td>\n",
       "      <td>1</td>\n",
       "      <td>Yes</td>\n",
       "      <td>Private</td>\n",
       "      <td>Urban</td>\n",
       "      <td>228.69</td>\n",
       "      <td>36.6</td>\n",
       "      <td>formerly smoked</td>\n",
       "      <td>1</td>\n",
       "    </tr>\n",
       "    <tr>\n",
       "      <th>1</th>\n",
       "      <td>51676</td>\n",
       "      <td>Female</td>\n",
       "      <td>61.0</td>\n",
       "      <td>0</td>\n",
       "      <td>0</td>\n",
       "      <td>Yes</td>\n",
       "      <td>Self-employed</td>\n",
       "      <td>Rural</td>\n",
       "      <td>202.21</td>\n",
       "      <td>NaN</td>\n",
       "      <td>never smoked</td>\n",
       "      <td>1</td>\n",
       "    </tr>\n",
       "    <tr>\n",
       "      <th>2</th>\n",
       "      <td>31112</td>\n",
       "      <td>Male</td>\n",
       "      <td>80.0</td>\n",
       "      <td>0</td>\n",
       "      <td>1</td>\n",
       "      <td>Yes</td>\n",
       "      <td>Private</td>\n",
       "      <td>Rural</td>\n",
       "      <td>105.92</td>\n",
       "      <td>32.5</td>\n",
       "      <td>never smoked</td>\n",
       "      <td>1</td>\n",
       "    </tr>\n",
       "    <tr>\n",
       "      <th>3</th>\n",
       "      <td>60182</td>\n",
       "      <td>Female</td>\n",
       "      <td>49.0</td>\n",
       "      <td>0</td>\n",
       "      <td>0</td>\n",
       "      <td>Yes</td>\n",
       "      <td>Private</td>\n",
       "      <td>Urban</td>\n",
       "      <td>171.23</td>\n",
       "      <td>34.4</td>\n",
       "      <td>smokes</td>\n",
       "      <td>1</td>\n",
       "    </tr>\n",
       "    <tr>\n",
       "      <th>4</th>\n",
       "      <td>1665</td>\n",
       "      <td>Female</td>\n",
       "      <td>79.0</td>\n",
       "      <td>1</td>\n",
       "      <td>0</td>\n",
       "      <td>Yes</td>\n",
       "      <td>Self-employed</td>\n",
       "      <td>Rural</td>\n",
       "      <td>174.12</td>\n",
       "      <td>24.0</td>\n",
       "      <td>never smoked</td>\n",
       "      <td>1</td>\n",
       "    </tr>\n",
       "  </tbody>\n",
       "</table>\n",
       "</div>"
      ],
      "text/plain": [
       "      id  gender   age  hypertension  heart_disease ever_married  \\\n",
       "0   9046    Male  67.0             0              1          Yes   \n",
       "1  51676  Female  61.0             0              0          Yes   \n",
       "2  31112    Male  80.0             0              1          Yes   \n",
       "3  60182  Female  49.0             0              0          Yes   \n",
       "4   1665  Female  79.0             1              0          Yes   \n",
       "\n",
       "       work_type Residence_type  avg_glucose_level   bmi   smoking_status  \\\n",
       "0        Private          Urban             228.69  36.6  formerly smoked   \n",
       "1  Self-employed          Rural             202.21   NaN     never smoked   \n",
       "2        Private          Rural             105.92  32.5     never smoked   \n",
       "3        Private          Urban             171.23  34.4           smokes   \n",
       "4  Self-employed          Rural             174.12  24.0     never smoked   \n",
       "\n",
       "   stroke  \n",
       "0       1  \n",
       "1       1  \n",
       "2       1  \n",
       "3       1  \n",
       "4       1  "
      ]
     },
     "execution_count": 55,
     "metadata": {},
     "output_type": "execute_result"
    }
   ],
   "source": [
    "df = pd.read_csv(config[\"data\"][\"raw\"][\"file_raw\"])\n",
    "df.head()"
   ]
  },
  {
   "cell_type": "code",
   "execution_count": null,
   "metadata": {},
   "outputs": [],
   "source": [
    "df.info()"
   ]
  },
  {
   "cell_type": "code",
   "execution_count": null,
   "metadata": {},
   "outputs": [],
   "source": [
    "df.isna().sum()"
   ]
  },
  {
   "cell_type": "code",
   "execution_count": 56,
   "metadata": {},
   "outputs": [],
   "source": [
    "df[\"bmi\"] = df[\"bmi\"].fillna(df[\"bmi\"].mean())\n",
    "df = df[df[\"gender\"] != \"Other\"]"
   ]
  },
  {
   "cell_type": "code",
   "execution_count": 57,
   "metadata": {},
   "outputs": [
    {
     "data": {
      "text/plain": [
       "(work_type\n",
       " Private          2924\n",
       " Self-employed     819\n",
       " children          687\n",
       " Govt_job          657\n",
       " Never_worked       22\n",
       " Name: count, dtype: int64,\n",
       " smoking_status\n",
       " never smoked       1892\n",
       " Unknown            1544\n",
       " formerly smoked     884\n",
       " smokes              789\n",
       " Name: count, dtype: int64)"
      ]
     },
     "execution_count": 57,
     "metadata": {},
     "output_type": "execute_result"
    }
   ],
   "source": [
    "df[\"work_type\"].value_counts(), df[\"smoking_status\"].value_counts()"
   ]
  },
  {
   "cell_type": "code",
   "execution_count": 58,
   "metadata": {},
   "outputs": [
    {
     "data": {
      "application/vnd.microsoft.datawrangler.viewer.v0+json": {
       "columns": [
        {
         "name": "index",
         "rawType": "int64",
         "type": "integer"
        },
        {
         "name": "id",
         "rawType": "int64",
         "type": "integer"
        },
        {
         "name": "gender",
         "rawType": "object",
         "type": "string"
        },
        {
         "name": "age",
         "rawType": "float64",
         "type": "float"
        },
        {
         "name": "hypertension",
         "rawType": "int64",
         "type": "integer"
        },
        {
         "name": "heart_disease",
         "rawType": "int64",
         "type": "integer"
        },
        {
         "name": "ever_married",
         "rawType": "object",
         "type": "string"
        },
        {
         "name": "work_type",
         "rawType": "int64",
         "type": "integer"
        },
        {
         "name": "Residence_type",
         "rawType": "object",
         "type": "string"
        },
        {
         "name": "avg_glucose_level",
         "rawType": "float64",
         "type": "float"
        },
        {
         "name": "bmi",
         "rawType": "float64",
         "type": "float"
        },
        {
         "name": "smoking_status",
         "rawType": "int64",
         "type": "integer"
        },
        {
         "name": "stroke",
         "rawType": "int64",
         "type": "integer"
        }
       ],
       "ref": "a656bd47-c516-40c5-b4b1-e41e65e0fa73",
       "rows": [
        [
         "0",
         "9046",
         "Male",
         "67.0",
         "0",
         "1",
         "Yes",
         "4",
         "Urban",
         "228.69",
         "36.6",
         "1",
         "1"
        ],
        [
         "1",
         "51676",
         "Female",
         "61.0",
         "0",
         "0",
         "Yes",
         "3",
         "Rural",
         "202.21",
         "28.893236911794666",
         "0",
         "1"
        ],
        [
         "2",
         "31112",
         "Male",
         "80.0",
         "0",
         "1",
         "Yes",
         "4",
         "Rural",
         "105.92",
         "32.5",
         "0",
         "1"
        ],
        [
         "3",
         "60182",
         "Female",
         "49.0",
         "0",
         "0",
         "Yes",
         "4",
         "Urban",
         "171.23",
         "34.4",
         "3",
         "1"
        ],
        [
         "4",
         "1665",
         "Female",
         "79.0",
         "1",
         "0",
         "Yes",
         "3",
         "Rural",
         "174.12",
         "24.0",
         "0",
         "1"
        ]
       ],
       "shape": {
        "columns": 12,
        "rows": 5
       }
      },
      "text/html": [
       "<div>\n",
       "<style scoped>\n",
       "    .dataframe tbody tr th:only-of-type {\n",
       "        vertical-align: middle;\n",
       "    }\n",
       "\n",
       "    .dataframe tbody tr th {\n",
       "        vertical-align: top;\n",
       "    }\n",
       "\n",
       "    .dataframe thead th {\n",
       "        text-align: right;\n",
       "    }\n",
       "</style>\n",
       "<table border=\"1\" class=\"dataframe\">\n",
       "  <thead>\n",
       "    <tr style=\"text-align: right;\">\n",
       "      <th></th>\n",
       "      <th>id</th>\n",
       "      <th>gender</th>\n",
       "      <th>age</th>\n",
       "      <th>hypertension</th>\n",
       "      <th>heart_disease</th>\n",
       "      <th>ever_married</th>\n",
       "      <th>work_type</th>\n",
       "      <th>Residence_type</th>\n",
       "      <th>avg_glucose_level</th>\n",
       "      <th>bmi</th>\n",
       "      <th>smoking_status</th>\n",
       "      <th>stroke</th>\n",
       "    </tr>\n",
       "  </thead>\n",
       "  <tbody>\n",
       "    <tr>\n",
       "      <th>0</th>\n",
       "      <td>9046</td>\n",
       "      <td>Male</td>\n",
       "      <td>67.0</td>\n",
       "      <td>0</td>\n",
       "      <td>1</td>\n",
       "      <td>Yes</td>\n",
       "      <td>4</td>\n",
       "      <td>Urban</td>\n",
       "      <td>228.69</td>\n",
       "      <td>36.600000</td>\n",
       "      <td>1</td>\n",
       "      <td>1</td>\n",
       "    </tr>\n",
       "    <tr>\n",
       "      <th>1</th>\n",
       "      <td>51676</td>\n",
       "      <td>Female</td>\n",
       "      <td>61.0</td>\n",
       "      <td>0</td>\n",
       "      <td>0</td>\n",
       "      <td>Yes</td>\n",
       "      <td>3</td>\n",
       "      <td>Rural</td>\n",
       "      <td>202.21</td>\n",
       "      <td>28.893237</td>\n",
       "      <td>0</td>\n",
       "      <td>1</td>\n",
       "    </tr>\n",
       "    <tr>\n",
       "      <th>2</th>\n",
       "      <td>31112</td>\n",
       "      <td>Male</td>\n",
       "      <td>80.0</td>\n",
       "      <td>0</td>\n",
       "      <td>1</td>\n",
       "      <td>Yes</td>\n",
       "      <td>4</td>\n",
       "      <td>Rural</td>\n",
       "      <td>105.92</td>\n",
       "      <td>32.500000</td>\n",
       "      <td>0</td>\n",
       "      <td>1</td>\n",
       "    </tr>\n",
       "    <tr>\n",
       "      <th>3</th>\n",
       "      <td>60182</td>\n",
       "      <td>Female</td>\n",
       "      <td>49.0</td>\n",
       "      <td>0</td>\n",
       "      <td>0</td>\n",
       "      <td>Yes</td>\n",
       "      <td>4</td>\n",
       "      <td>Urban</td>\n",
       "      <td>171.23</td>\n",
       "      <td>34.400000</td>\n",
       "      <td>3</td>\n",
       "      <td>1</td>\n",
       "    </tr>\n",
       "    <tr>\n",
       "      <th>4</th>\n",
       "      <td>1665</td>\n",
       "      <td>Female</td>\n",
       "      <td>79.0</td>\n",
       "      <td>1</td>\n",
       "      <td>0</td>\n",
       "      <td>Yes</td>\n",
       "      <td>3</td>\n",
       "      <td>Rural</td>\n",
       "      <td>174.12</td>\n",
       "      <td>24.000000</td>\n",
       "      <td>0</td>\n",
       "      <td>1</td>\n",
       "    </tr>\n",
       "  </tbody>\n",
       "</table>\n",
       "</div>"
      ],
      "text/plain": [
       "      id  gender   age  hypertension  heart_disease ever_married  work_type  \\\n",
       "0   9046    Male  67.0             0              1          Yes          4   \n",
       "1  51676  Female  61.0             0              0          Yes          3   \n",
       "2  31112    Male  80.0             0              1          Yes          4   \n",
       "3  60182  Female  49.0             0              0          Yes          4   \n",
       "4   1665  Female  79.0             1              0          Yes          3   \n",
       "\n",
       "  Residence_type  avg_glucose_level        bmi  smoking_status  stroke  \n",
       "0          Urban             228.69  36.600000               1       1  \n",
       "1          Rural             202.21  28.893237               0       1  \n",
       "2          Rural             105.92  32.500000               0       1  \n",
       "3          Urban             171.23  34.400000               3       1  \n",
       "4          Rural             174.12  24.000000               0       1  "
      ]
     },
     "execution_count": 58,
     "metadata": {},
     "output_type": "execute_result"
    }
   ],
   "source": [
    "df[\"work_type\"] = df[\"work_type\"].map({\"Private\": 4, \"Self-employed\": 3, \"Govt_job\": 2, \"children\": 1, \"Never_worked\": 0})\n",
    "df[\"smoking_status\"] = df[\"smoking_status\"].map({\"smokes\": 3, \"Unknown\": 2, \"formerly smoked\": 1, \"never smoked\": 0})\n",
    "df.head()"
   ]
  },
  {
   "cell_type": "code",
   "execution_count": 59,
   "metadata": {},
   "outputs": [],
   "source": [
    "features = df.drop(columns= \"stroke\")\n",
    "target = df[\"stroke\"]"
   ]
  },
  {
   "cell_type": "code",
   "execution_count": 60,
   "metadata": {},
   "outputs": [
    {
     "data": {
      "application/vnd.microsoft.datawrangler.viewer.v0+json": {
       "columns": [
        {
         "name": "index",
         "rawType": "int64",
         "type": "integer"
        },
        {
         "name": "age",
         "rawType": "float64",
         "type": "float"
        },
        {
         "name": "hypertension",
         "rawType": "int64",
         "type": "integer"
        },
        {
         "name": "heart_disease",
         "rawType": "int64",
         "type": "integer"
        },
        {
         "name": "work_type",
         "rawType": "int64",
         "type": "integer"
        },
        {
         "name": "avg_glucose_level",
         "rawType": "float64",
         "type": "float"
        },
        {
         "name": "bmi",
         "rawType": "float64",
         "type": "float"
        },
        {
         "name": "smoking_status",
         "rawType": "int64",
         "type": "integer"
        },
        {
         "name": "stroke",
         "rawType": "int64",
         "type": "integer"
        }
       ],
       "ref": "416c8998-591d-452b-a624-571beae0157d",
       "rows": [
        [
         "0",
         "67.0",
         "0",
         "1",
         "4",
         "228.69",
         "36.6",
         "1",
         "1"
        ],
        [
         "1",
         "61.0",
         "0",
         "0",
         "3",
         "202.21",
         "28.893236911794666",
         "0",
         "1"
        ],
        [
         "2",
         "80.0",
         "0",
         "1",
         "4",
         "105.92",
         "32.5",
         "0",
         "1"
        ],
        [
         "3",
         "49.0",
         "0",
         "0",
         "4",
         "171.23",
         "34.4",
         "3",
         "1"
        ],
        [
         "4",
         "79.0",
         "1",
         "0",
         "3",
         "174.12",
         "24.0",
         "0",
         "1"
        ]
       ],
       "shape": {
        "columns": 8,
        "rows": 5
       }
      },
      "text/html": [
       "<div>\n",
       "<style scoped>\n",
       "    .dataframe tbody tr th:only-of-type {\n",
       "        vertical-align: middle;\n",
       "    }\n",
       "\n",
       "    .dataframe tbody tr th {\n",
       "        vertical-align: top;\n",
       "    }\n",
       "\n",
       "    .dataframe thead th {\n",
       "        text-align: right;\n",
       "    }\n",
       "</style>\n",
       "<table border=\"1\" class=\"dataframe\">\n",
       "  <thead>\n",
       "    <tr style=\"text-align: right;\">\n",
       "      <th></th>\n",
       "      <th>age</th>\n",
       "      <th>hypertension</th>\n",
       "      <th>heart_disease</th>\n",
       "      <th>work_type</th>\n",
       "      <th>avg_glucose_level</th>\n",
       "      <th>bmi</th>\n",
       "      <th>smoking_status</th>\n",
       "      <th>stroke</th>\n",
       "    </tr>\n",
       "  </thead>\n",
       "  <tbody>\n",
       "    <tr>\n",
       "      <th>0</th>\n",
       "      <td>67.0</td>\n",
       "      <td>0</td>\n",
       "      <td>1</td>\n",
       "      <td>4</td>\n",
       "      <td>228.69</td>\n",
       "      <td>36.600000</td>\n",
       "      <td>1</td>\n",
       "      <td>1</td>\n",
       "    </tr>\n",
       "    <tr>\n",
       "      <th>1</th>\n",
       "      <td>61.0</td>\n",
       "      <td>0</td>\n",
       "      <td>0</td>\n",
       "      <td>3</td>\n",
       "      <td>202.21</td>\n",
       "      <td>28.893237</td>\n",
       "      <td>0</td>\n",
       "      <td>1</td>\n",
       "    </tr>\n",
       "    <tr>\n",
       "      <th>2</th>\n",
       "      <td>80.0</td>\n",
       "      <td>0</td>\n",
       "      <td>1</td>\n",
       "      <td>4</td>\n",
       "      <td>105.92</td>\n",
       "      <td>32.500000</td>\n",
       "      <td>0</td>\n",
       "      <td>1</td>\n",
       "    </tr>\n",
       "    <tr>\n",
       "      <th>3</th>\n",
       "      <td>49.0</td>\n",
       "      <td>0</td>\n",
       "      <td>0</td>\n",
       "      <td>4</td>\n",
       "      <td>171.23</td>\n",
       "      <td>34.400000</td>\n",
       "      <td>3</td>\n",
       "      <td>1</td>\n",
       "    </tr>\n",
       "    <tr>\n",
       "      <th>4</th>\n",
       "      <td>79.0</td>\n",
       "      <td>1</td>\n",
       "      <td>0</td>\n",
       "      <td>3</td>\n",
       "      <td>174.12</td>\n",
       "      <td>24.000000</td>\n",
       "      <td>0</td>\n",
       "      <td>1</td>\n",
       "    </tr>\n",
       "  </tbody>\n",
       "</table>\n",
       "</div>"
      ],
      "text/plain": [
       "    age  hypertension  heart_disease  work_type  avg_glucose_level        bmi  \\\n",
       "0  67.0             0              1          4             228.69  36.600000   \n",
       "1  61.0             0              0          3             202.21  28.893237   \n",
       "2  80.0             0              1          4             105.92  32.500000   \n",
       "3  49.0             0              0          4             171.23  34.400000   \n",
       "4  79.0             1              0          3             174.12  24.000000   \n",
       "\n",
       "   smoking_status  stroke  \n",
       "0               1       1  \n",
       "1               0       1  \n",
       "2               0       1  \n",
       "3               3       1  \n",
       "4               0       1  "
      ]
     },
     "execution_count": 60,
     "metadata": {},
     "output_type": "execute_result"
    }
   ],
   "source": [
    "df_num = df.select_dtypes(include=\"number\").drop(\"id\",axis = 1)\n",
    "df_num.head()"
   ]
  },
  {
   "cell_type": "code",
   "execution_count": 10,
   "metadata": {},
   "outputs": [
    {
     "data": {
      "image/png": "[encoded data removed]",
      "text/plain": [
       "<Figure size 1000x1000 with 2 Axes>"
      ]
     },
     "metadata": {},
     "output_type": "display_data"
    }
   ],
   "source": [
    "# corr=df_num.corr()\n",
    "corr=np.abs(df_num.corr())\n",
    "\n",
    "#Set up mask for triangle representation\n",
    "# mask = np.zeros_like(corr, dtype=bool)\n",
    "# mask[np.triu_indices_from(mask)] = True\n",
    "\n",
    "# Set up the matplotlib figure\n",
    "f, ax = plt.subplots(figsize=(10, 10))\n",
    "# Generate a custom diverging colormap\n",
    "cmap = sns.diverging_palette(220, 10, as_cmap=True)\n",
    "# Draw the heatmap with the mask and correct aspect ratio\n",
    "sns.heatmap(corr, vmax=1,square=True, linewidths=.5, cbar_kws={\"shrink\": .5},annot = corr)\n",
    "# sns.heatmap(corr, mask=mask,  vmax=1,square=True, linewidths=.5, cbar_kws={\"shrink\": .5},annot = corr)\n",
    "\n",
    "plt.show()"
   ]
  },
  {
   "cell_type": "code",
   "execution_count": 61,
   "metadata": {},
   "outputs": [],
   "source": [
    "X_train, X_test, y_train, y_test = train_test_split(features, target, test_size = 0.20, random_state=0)"
   ]
  },
  {
   "cell_type": "code",
   "execution_count": 13,
   "metadata": {},
   "outputs": [
    {
     "data": {
      "application/vnd.microsoft.datawrangler.viewer.v0+json": {
       "columns": [
        {
         "name": "index",
         "rawType": "int64",
         "type": "integer"
        },
        {
         "name": "id",
         "rawType": "int64",
         "type": "integer"
        },
        {
         "name": "gender",
         "rawType": "object",
         "type": "string"
        },
        {
         "name": "age",
         "rawType": "float64",
         "type": "float"
        },
        {
         "name": "hypertension",
         "rawType": "int64",
         "type": "integer"
        },
        {
         "name": "heart_disease",
         "rawType": "int64",
         "type": "integer"
        },
        {
         "name": "ever_married",
         "rawType": "object",
         "type": "string"
        },
        {
         "name": "work_type",
         "rawType": "int64",
         "type": "integer"
        },
        {
         "name": "Residence_type",
         "rawType": "object",
         "type": "string"
        },
        {
         "name": "avg_glucose_level",
         "rawType": "float64",
         "type": "float"
        },
        {
         "name": "bmi",
         "rawType": "float64",
         "type": "float"
        },
        {
         "name": "smoking_status",
         "rawType": "int64",
         "type": "integer"
        }
       ],
       "ref": "9695329a-972f-4fdb-bf66-ee7796f53a0c",
       "rows": [
        [
         "1547",
         "41424",
         "Male",
         "59.0",
         "0",
         "1",
         "Yes",
         "3",
         "Rural",
         "194.98",
         "30.4",
         "2"
        ],
        [
         "4976",
         "63656",
         "Female",
         "18.0",
         "0",
         "0",
         "No",
         "4",
         "Urban",
         "101.95",
         "46.0",
         "1"
        ],
        [
         "246",
         "27153",
         "Female",
         "75.0",
         "0",
         "0",
         "Yes",
         "3",
         "Rural",
         "78.8",
         "29.3",
         "1"
        ],
        [
         "2824",
         "15539",
         "Female",
         "41.0",
         "0",
         "0",
         "Yes",
         "4",
         "Rural",
         "97.41",
         "25.5",
         "0"
        ],
        [
         "3799",
         "2029",
         "Female",
         "40.0",
         "0",
         "0",
         "Yes",
         "4",
         "Rural",
         "92.35",
         "38.0",
         "0"
        ]
       ],
       "shape": {
        "columns": 11,
        "rows": 5
       }
      },
      "text/html": [
       "<div>\n",
       "<style scoped>\n",
       "    .dataframe tbody tr th:only-of-type {\n",
       "        vertical-align: middle;\n",
       "    }\n",
       "\n",
       "    .dataframe tbody tr th {\n",
       "        vertical-align: top;\n",
       "    }\n",
       "\n",
       "    .dataframe thead th {\n",
       "        text-align: right;\n",
       "    }\n",
       "</style>\n",
       "<table border=\"1\" class=\"dataframe\">\n",
       "  <thead>\n",
       "    <tr style=\"text-align: right;\">\n",
       "      <th></th>\n",
       "      <th>id</th>\n",
       "      <th>gender</th>\n",
       "      <th>age</th>\n",
       "      <th>hypertension</th>\n",
       "      <th>heart_disease</th>\n",
       "      <th>ever_married</th>\n",
       "      <th>work_type</th>\n",
       "      <th>Residence_type</th>\n",
       "      <th>avg_glucose_level</th>\n",
       "      <th>bmi</th>\n",
       "      <th>smoking_status</th>\n",
       "    </tr>\n",
       "  </thead>\n",
       "  <tbody>\n",
       "    <tr>\n",
       "      <th>1547</th>\n",
       "      <td>41424</td>\n",
       "      <td>Male</td>\n",
       "      <td>59.0</td>\n",
       "      <td>0</td>\n",
       "      <td>1</td>\n",
       "      <td>Yes</td>\n",
       "      <td>3</td>\n",
       "      <td>Rural</td>\n",
       "      <td>194.98</td>\n",
       "      <td>30.4</td>\n",
       "      <td>2</td>\n",
       "    </tr>\n",
       "    <tr>\n",
       "      <th>4976</th>\n",
       "      <td>63656</td>\n",
       "      <td>Female</td>\n",
       "      <td>18.0</td>\n",
       "      <td>0</td>\n",
       "      <td>0</td>\n",
       "      <td>No</td>\n",
       "      <td>4</td>\n",
       "      <td>Urban</td>\n",
       "      <td>101.95</td>\n",
       "      <td>46.0</td>\n",
       "      <td>1</td>\n",
       "    </tr>\n",
       "    <tr>\n",
       "      <th>246</th>\n",
       "      <td>27153</td>\n",
       "      <td>Female</td>\n",
       "      <td>75.0</td>\n",
       "      <td>0</td>\n",
       "      <td>0</td>\n",
       "      <td>Yes</td>\n",
       "      <td>3</td>\n",
       "      <td>Rural</td>\n",
       "      <td>78.80</td>\n",
       "      <td>29.3</td>\n",
       "      <td>1</td>\n",
       "    </tr>\n",
       "    <tr>\n",
       "      <th>2824</th>\n",
       "      <td>15539</td>\n",
       "      <td>Female</td>\n",
       "      <td>41.0</td>\n",
       "      <td>0</td>\n",
       "      <td>0</td>\n",
       "      <td>Yes</td>\n",
       "      <td>4</td>\n",
       "      <td>Rural</td>\n",
       "      <td>97.41</td>\n",
       "      <td>25.5</td>\n",
       "      <td>0</td>\n",
       "    </tr>\n",
       "    <tr>\n",
       "      <th>3799</th>\n",
       "      <td>2029</td>\n",
       "      <td>Female</td>\n",
       "      <td>40.0</td>\n",
       "      <td>0</td>\n",
       "      <td>0</td>\n",
       "      <td>Yes</td>\n",
       "      <td>4</td>\n",
       "      <td>Rural</td>\n",
       "      <td>92.35</td>\n",
       "      <td>38.0</td>\n",
       "      <td>0</td>\n",
       "    </tr>\n",
       "  </tbody>\n",
       "</table>\n",
       "</div>"
      ],
      "text/plain": [
       "         id  gender   age  hypertension  heart_disease ever_married  \\\n",
       "1547  41424    Male  59.0             0              1          Yes   \n",
       "4976  63656  Female  18.0             0              0           No   \n",
       "246   27153  Female  75.0             0              0          Yes   \n",
       "2824  15539  Female  41.0             0              0          Yes   \n",
       "3799   2029  Female  40.0             0              0          Yes   \n",
       "\n",
       "      work_type Residence_type  avg_glucose_level   bmi  smoking_status  \n",
       "1547          3          Rural             194.98  30.4               2  \n",
       "4976          4          Urban             101.95  46.0               1  \n",
       "246           3          Rural              78.80  29.3               1  \n",
       "2824          4          Rural              97.41  25.5               0  \n",
       "3799          4          Rural              92.35  38.0               0  "
      ]
     },
     "execution_count": 13,
     "metadata": {},
     "output_type": "execute_result"
    }
   ],
   "source": [
    "X_train.head()"
   ]
  },
  {
   "cell_type": "code",
   "execution_count": 21,
   "metadata": {},
   "outputs": [
    {
     "data": {
      "application/vnd.microsoft.datawrangler.viewer.v0+json": {
       "columns": [
        {
         "name": "index",
         "rawType": "int64",
         "type": "integer"
        },
        {
         "name": "stroke",
         "rawType": "int64",
         "type": "integer"
        }
       ],
       "ref": "361ba94c-a95c-4d90-8858-9cc7f1e4fb4b",
       "rows": [
        [
         "1547",
         "0"
        ],
        [
         "4976",
         "0"
        ],
        [
         "246",
         "1"
        ],
        [
         "2824",
         "0"
        ],
        [
         "3799",
         "0"
        ]
       ],
       "shape": {
        "columns": 1,
        "rows": 5
       }
      },
      "text/plain": [
       "1547    0\n",
       "4976    0\n",
       "246     1\n",
       "2824    0\n",
       "3799    0\n",
       "Name: stroke, dtype: int64"
      ]
     },
     "execution_count": 21,
     "metadata": {},
     "output_type": "execute_result"
    }
   ],
   "source": [
    "y_train.head()"
   ]
  },
  {
   "cell_type": "code",
   "execution_count": 62,
   "metadata": {},
   "outputs": [],
   "source": [
    "X_train_num = X_train.select_dtypes(include=\"number\").drop(\"id\",axis = 1)\n",
    "X_test_num = X_test.select_dtypes(include=\"number\").drop(\"id\",axis = 1)"
   ]
  },
  {
   "cell_type": "code",
   "execution_count": 63,
   "metadata": {},
   "outputs": [],
   "source": [
    "normalizer = MinMaxScaler()\n",
    "normalizer.fit(X_train_num)\n",
    "X_train_num_trans = normalizer.transform(X_train_num)\n",
    "X_test_num_trans = normalizer.transform(X_test_num)"
   ]
  },
  {
   "cell_type": "code",
   "execution_count": 64,
   "metadata": {},
   "outputs": [
    {
     "data": {
      "application/vnd.microsoft.datawrangler.viewer.v0+json": {
       "columns": [
        {
         "name": "index",
         "rawType": "int64",
         "type": "integer"
        },
        {
         "name": "age",
         "rawType": "float64",
         "type": "float"
        },
        {
         "name": "hypertension",
         "rawType": "float64",
         "type": "float"
        },
        {
         "name": "heart_disease",
         "rawType": "float64",
         "type": "float"
        },
        {
         "name": "work_type",
         "rawType": "float64",
         "type": "float"
        },
        {
         "name": "avg_glucose_level",
         "rawType": "float64",
         "type": "float"
        },
        {
         "name": "bmi",
         "rawType": "float64",
         "type": "float"
        },
        {
         "name": "smoking_status",
         "rawType": "float64",
         "type": "float"
        }
       ],
       "ref": "142600a2-029d-45a7-8237-6164a1bee2f7",
       "rows": [
        [
         "1547",
         "0.71923828125",
         "0.0",
         "1.0",
         "0.75",
         "0.6456467546856246",
         "0.2302405498281787",
         "0.6666666666666666"
        ],
        [
         "4976",
         "0.21875",
         "0.0",
         "0.0",
         "1.0",
         "0.21618502446680826",
         "0.40893470790378006",
         "0.3333333333333333"
        ],
        [
         "246",
         "0.91455078125",
         "0.0",
         "0.0",
         "0.75",
         "0.10931585264518512",
         "0.21764032073310424",
         "0.3333333333333333"
        ],
        [
         "2824",
         "0.49951171875",
         "0.0",
         "0.0",
         "1.0",
         "0.1952266642045979",
         "0.17411225658648338",
         "0.0"
        ],
        [
         "3799",
         "0.4873046875",
         "0.0",
         "0.0",
         "1.0",
         "0.1718677869079494",
         "0.3172966781214204",
         "0.0"
        ]
       ],
       "shape": {
        "columns": 7,
        "rows": 5
       }
      },
      "text/html": [
       "<div>\n",
       "<style scoped>\n",
       "    .dataframe tbody tr th:only-of-type {\n",
       "        vertical-align: middle;\n",
       "    }\n",
       "\n",
       "    .dataframe tbody tr th {\n",
       "        vertical-align: top;\n",
       "    }\n",
       "\n",
       "    .dataframe thead th {\n",
       "        text-align: right;\n",
       "    }\n",
       "</style>\n",
       "<table border=\"1\" class=\"dataframe\">\n",
       "  <thead>\n",
       "    <tr style=\"text-align: right;\">\n",
       "      <th></th>\n",
       "      <th>age</th>\n",
       "      <th>hypertension</th>\n",
       "      <th>heart_disease</th>\n",
       "      <th>work_type</th>\n",
       "      <th>avg_glucose_level</th>\n",
       "      <th>bmi</th>\n",
       "      <th>smoking_status</th>\n",
       "    </tr>\n",
       "  </thead>\n",
       "  <tbody>\n",
       "    <tr>\n",
       "      <th>1547</th>\n",
       "      <td>0.719238</td>\n",
       "      <td>0.0</td>\n",
       "      <td>1.0</td>\n",
       "      <td>0.75</td>\n",
       "      <td>0.645647</td>\n",
       "      <td>0.230241</td>\n",
       "      <td>0.666667</td>\n",
       "    </tr>\n",
       "    <tr>\n",
       "      <th>4976</th>\n",
       "      <td>0.218750</td>\n",
       "      <td>0.0</td>\n",
       "      <td>0.0</td>\n",
       "      <td>1.00</td>\n",
       "      <td>0.216185</td>\n",
       "      <td>0.408935</td>\n",
       "      <td>0.333333</td>\n",
       "    </tr>\n",
       "    <tr>\n",
       "      <th>246</th>\n",
       "      <td>0.914551</td>\n",
       "      <td>0.0</td>\n",
       "      <td>0.0</td>\n",
       "      <td>0.75</td>\n",
       "      <td>0.109316</td>\n",
       "      <td>0.217640</td>\n",
       "      <td>0.333333</td>\n",
       "    </tr>\n",
       "    <tr>\n",
       "      <th>2824</th>\n",
       "      <td>0.499512</td>\n",
       "      <td>0.0</td>\n",
       "      <td>0.0</td>\n",
       "      <td>1.00</td>\n",
       "      <td>0.195227</td>\n",
       "      <td>0.174112</td>\n",
       "      <td>0.000000</td>\n",
       "    </tr>\n",
       "    <tr>\n",
       "      <th>3799</th>\n",
       "      <td>0.487305</td>\n",
       "      <td>0.0</td>\n",
       "      <td>0.0</td>\n",
       "      <td>1.00</td>\n",
       "      <td>0.171868</td>\n",
       "      <td>0.317297</td>\n",
       "      <td>0.000000</td>\n",
       "    </tr>\n",
       "  </tbody>\n",
       "</table>\n",
       "</div>"
      ],
      "text/plain": [
       "           age  hypertension  heart_disease  work_type  avg_glucose_level  \\\n",
       "1547  0.719238           0.0            1.0       0.75           0.645647   \n",
       "4976  0.218750           0.0            0.0       1.00           0.216185   \n",
       "246   0.914551           0.0            0.0       0.75           0.109316   \n",
       "2824  0.499512           0.0            0.0       1.00           0.195227   \n",
       "3799  0.487305           0.0            0.0       1.00           0.171868   \n",
       "\n",
       "           bmi  smoking_status  \n",
       "1547  0.230241        0.666667  \n",
       "4976  0.408935        0.333333  \n",
       "246   0.217640        0.333333  \n",
       "2824  0.174112        0.000000  \n",
       "3799  0.317297        0.000000  "
      ]
     },
     "execution_count": 64,
     "metadata": {},
     "output_type": "execute_result"
    }
   ],
   "source": [
    "X_train_num_norm = pd.DataFrame(X_train_num_trans, columns=X_train_num.columns, index=X_train_num.index )\n",
    "X_train_num_norm.head()"
   ]
  },
  {
   "cell_type": "code",
   "execution_count": 65,
   "metadata": {},
   "outputs": [
    {
     "data": {
      "application/vnd.microsoft.datawrangler.viewer.v0+json": {
       "columns": [
        {
         "name": "index",
         "rawType": "int64",
         "type": "integer"
        },
        {
         "name": "age",
         "rawType": "float64",
         "type": "float"
        },
        {
         "name": "hypertension",
         "rawType": "float64",
         "type": "float"
        },
        {
         "name": "heart_disease",
         "rawType": "float64",
         "type": "float"
        },
        {
         "name": "work_type",
         "rawType": "float64",
         "type": "float"
        },
        {
         "name": "avg_glucose_level",
         "rawType": "float64",
         "type": "float"
        },
        {
         "name": "bmi",
         "rawType": "float64",
         "type": "float"
        },
        {
         "name": "smoking_status",
         "rawType": "float64",
         "type": "float"
        }
       ],
       "ref": "d869f516-5cd0-4b27-89c4-4c4bc5293d5c",
       "rows": [
        [
         "42",
         "1.0",
         "0.0",
         "1.0",
         "1.0",
         "0.41445849875357776",
         "0.18442153493699887",
         "1.0"
        ],
        [
         "380",
         "0.0478515625",
         "0.0",
         "0.0",
         "0.25",
         "0.23589696242267566",
         "0.07331042382588775",
         "0.6666666666666666"
        ],
        [
         "1559",
         "0.64599609375",
         "0.0",
         "0.0",
         "1.0",
         "0.08083279475579358",
         "0.6471935853379153",
         "0.6666666666666666"
        ],
        [
         "352",
         "0.2431640625",
         "0.0",
         "0.0",
         "1.0",
         "0.19134890591819775",
         "0.2726231386025201",
         "0.0"
        ],
        [
         "3639",
         "0.62158203125",
         "1.0",
         "0.0",
         "1.0",
         "0.14181516018834828",
         "0.24627720504009165",
         "0.0"
        ]
       ],
       "shape": {
        "columns": 7,
        "rows": 5
       }
      },
      "text/html": [
       "<div>\n",
       "<style scoped>\n",
       "    .dataframe tbody tr th:only-of-type {\n",
       "        vertical-align: middle;\n",
       "    }\n",
       "\n",
       "    .dataframe tbody tr th {\n",
       "        vertical-align: top;\n",
       "    }\n",
       "\n",
       "    .dataframe thead th {\n",
       "        text-align: right;\n",
       "    }\n",
       "</style>\n",
       "<table border=\"1\" class=\"dataframe\">\n",
       "  <thead>\n",
       "    <tr style=\"text-align: right;\">\n",
       "      <th></th>\n",
       "      <th>age</th>\n",
       "      <th>hypertension</th>\n",
       "      <th>heart_disease</th>\n",
       "      <th>work_type</th>\n",
       "      <th>avg_glucose_level</th>\n",
       "      <th>bmi</th>\n",
       "      <th>smoking_status</th>\n",
       "    </tr>\n",
       "  </thead>\n",
       "  <tbody>\n",
       "    <tr>\n",
       "      <th>42</th>\n",
       "      <td>1.000000</td>\n",
       "      <td>0.0</td>\n",
       "      <td>1.0</td>\n",
       "      <td>1.00</td>\n",
       "      <td>0.414458</td>\n",
       "      <td>0.184422</td>\n",
       "      <td>1.000000</td>\n",
       "    </tr>\n",
       "    <tr>\n",
       "      <th>380</th>\n",
       "      <td>0.047852</td>\n",
       "      <td>0.0</td>\n",
       "      <td>0.0</td>\n",
       "      <td>0.25</td>\n",
       "      <td>0.235897</td>\n",
       "      <td>0.073310</td>\n",
       "      <td>0.666667</td>\n",
       "    </tr>\n",
       "    <tr>\n",
       "      <th>1559</th>\n",
       "      <td>0.645996</td>\n",
       "      <td>0.0</td>\n",
       "      <td>0.0</td>\n",
       "      <td>1.00</td>\n",
       "      <td>0.080833</td>\n",
       "      <td>0.647194</td>\n",
       "      <td>0.666667</td>\n",
       "    </tr>\n",
       "    <tr>\n",
       "      <th>352</th>\n",
       "      <td>0.243164</td>\n",
       "      <td>0.0</td>\n",
       "      <td>0.0</td>\n",
       "      <td>1.00</td>\n",
       "      <td>0.191349</td>\n",
       "      <td>0.272623</td>\n",
       "      <td>0.000000</td>\n",
       "    </tr>\n",
       "    <tr>\n",
       "      <th>3639</th>\n",
       "      <td>0.621582</td>\n",
       "      <td>1.0</td>\n",
       "      <td>0.0</td>\n",
       "      <td>1.00</td>\n",
       "      <td>0.141815</td>\n",
       "      <td>0.246277</td>\n",
       "      <td>0.000000</td>\n",
       "    </tr>\n",
       "  </tbody>\n",
       "</table>\n",
       "</div>"
      ],
      "text/plain": [
       "           age  hypertension  heart_disease  work_type  avg_glucose_level  \\\n",
       "42    1.000000           0.0            1.0       1.00           0.414458   \n",
       "380   0.047852           0.0            0.0       0.25           0.235897   \n",
       "1559  0.645996           0.0            0.0       1.00           0.080833   \n",
       "352   0.243164           0.0            0.0       1.00           0.191349   \n",
       "3639  0.621582           1.0            0.0       1.00           0.141815   \n",
       "\n",
       "           bmi  smoking_status  \n",
       "42    0.184422        1.000000  \n",
       "380   0.073310        0.666667  \n",
       "1559  0.647194        0.666667  \n",
       "352   0.272623        0.000000  \n",
       "3639  0.246277        0.000000  "
      ]
     },
     "execution_count": 65,
     "metadata": {},
     "output_type": "execute_result"
    }
   ],
   "source": [
    "X_test_num_norm = pd.DataFrame(X_test_num_trans, columns=X_test_num.columns, index=X_test_num.index )\n",
    "X_test_num_norm.head()"
   ]
  },
  {
   "cell_type": "code",
   "execution_count": 66,
   "metadata": {},
   "outputs": [],
   "source": [
    "ohe = OneHotEncoder(sparse_output=False)\n",
    "\n",
    "ohe.fit(X_train[['gender', 'ever_married', 'Residence_type']])\n",
    "X_train_obj_trans = ohe.transform(X_train[['gender', 'ever_married',  'Residence_type']])\n",
    "X_test_obj_trans = ohe.transform(X_test[['gender', 'ever_married', 'Residence_type']])"
   ]
  },
  {
   "cell_type": "code",
   "execution_count": 67,
   "metadata": {},
   "outputs": [
    {
     "data": {
      "text/plain": [
       "(array([[0., 1., 0., 1., 1., 0.],\n",
       "        [1., 0., 1., 0., 0., 1.],\n",
       "        [1., 0., 0., 1., 1., 0.],\n",
       "        ...,\n",
       "        [0., 1., 0., 1., 1., 0.],\n",
       "        [0., 1., 1., 0., 0., 1.],\n",
       "        [1., 0., 0., 1., 1., 0.]]),\n",
       " array([[0., 1., 0., 1., 0., 1.],\n",
       "        [0., 1., 1., 0., 1., 0.],\n",
       "        [1., 0., 0., 1., 1., 0.],\n",
       "        ...,\n",
       "        [0., 1., 0., 1., 0., 1.],\n",
       "        [0., 1., 0., 1., 1., 0.],\n",
       "        [1., 0., 1., 0., 1., 0.]]))"
      ]
     },
     "execution_count": 67,
     "metadata": {},
     "output_type": "execute_result"
    }
   ],
   "source": [
    "X_train_obj_trans,X_test_obj_trans"
   ]
  },
  {
   "cell_type": "code",
   "execution_count": 68,
   "metadata": {},
   "outputs": [
    {
     "data": {
      "application/vnd.microsoft.datawrangler.viewer.v0+json": {
       "columns": [
        {
         "name": "index",
         "rawType": "int64",
         "type": "integer"
        },
        {
         "name": "gender_Female",
         "rawType": "float64",
         "type": "float"
        },
        {
         "name": "gender_Male",
         "rawType": "float64",
         "type": "float"
        },
        {
         "name": "ever_married_No",
         "rawType": "float64",
         "type": "float"
        },
        {
         "name": "ever_married_Yes",
         "rawType": "float64",
         "type": "float"
        },
        {
         "name": "Residence_type_Rural",
         "rawType": "float64",
         "type": "float"
        },
        {
         "name": "Residence_type_Urban",
         "rawType": "float64",
         "type": "float"
        }
       ],
       "ref": "72d21285-6a01-4f5f-8523-ca438a817999",
       "rows": [
        [
         "1547",
         "0.0",
         "1.0",
         "0.0",
         "1.0",
         "1.0",
         "0.0"
        ],
        [
         "4976",
         "1.0",
         "0.0",
         "1.0",
         "0.0",
         "0.0",
         "1.0"
        ],
        [
         "246",
         "1.0",
         "0.0",
         "0.0",
         "1.0",
         "1.0",
         "0.0"
        ],
        [
         "2824",
         "1.0",
         "0.0",
         "0.0",
         "1.0",
         "1.0",
         "0.0"
        ],
        [
         "3799",
         "1.0",
         "0.0",
         "0.0",
         "1.0",
         "1.0",
         "0.0"
        ]
       ],
       "shape": {
        "columns": 6,
        "rows": 5
       }
      },
      "text/html": [
       "<div>\n",
       "<style scoped>\n",
       "    .dataframe tbody tr th:only-of-type {\n",
       "        vertical-align: middle;\n",
       "    }\n",
       "\n",
       "    .dataframe tbody tr th {\n",
       "        vertical-align: top;\n",
       "    }\n",
       "\n",
       "    .dataframe thead th {\n",
       "        text-align: right;\n",
       "    }\n",
       "</style>\n",
       "<table border=\"1\" class=\"dataframe\">\n",
       "  <thead>\n",
       "    <tr style=\"text-align: right;\">\n",
       "      <th></th>\n",
       "      <th>gender_Female</th>\n",
       "      <th>gender_Male</th>\n",
       "      <th>ever_married_No</th>\n",
       "      <th>ever_married_Yes</th>\n",
       "      <th>Residence_type_Rural</th>\n",
       "      <th>Residence_type_Urban</th>\n",
       "    </tr>\n",
       "  </thead>\n",
       "  <tbody>\n",
       "    <tr>\n",
       "      <th>1547</th>\n",
       "      <td>0.0</td>\n",
       "      <td>1.0</td>\n",
       "      <td>0.0</td>\n",
       "      <td>1.0</td>\n",
       "      <td>1.0</td>\n",
       "      <td>0.0</td>\n",
       "    </tr>\n",
       "    <tr>\n",
       "      <th>4976</th>\n",
       "      <td>1.0</td>\n",
       "      <td>0.0</td>\n",
       "      <td>1.0</td>\n",
       "      <td>0.0</td>\n",
       "      <td>0.0</td>\n",
       "      <td>1.0</td>\n",
       "    </tr>\n",
       "    <tr>\n",
       "      <th>246</th>\n",
       "      <td>1.0</td>\n",
       "      <td>0.0</td>\n",
       "      <td>0.0</td>\n",
       "      <td>1.0</td>\n",
       "      <td>1.0</td>\n",
       "      <td>0.0</td>\n",
       "    </tr>\n",
       "    <tr>\n",
       "      <th>2824</th>\n",
       "      <td>1.0</td>\n",
       "      <td>0.0</td>\n",
       "      <td>0.0</td>\n",
       "      <td>1.0</td>\n",
       "      <td>1.0</td>\n",
       "      <td>0.0</td>\n",
       "    </tr>\n",
       "    <tr>\n",
       "      <th>3799</th>\n",
       "      <td>1.0</td>\n",
       "      <td>0.0</td>\n",
       "      <td>0.0</td>\n",
       "      <td>1.0</td>\n",
       "      <td>1.0</td>\n",
       "      <td>0.0</td>\n",
       "    </tr>\n",
       "  </tbody>\n",
       "</table>\n",
       "</div>"
      ],
      "text/plain": [
       "      gender_Female  gender_Male  ever_married_No  ever_married_Yes  \\\n",
       "1547            0.0          1.0              0.0               1.0   \n",
       "4976            1.0          0.0              1.0               0.0   \n",
       "246             1.0          0.0              0.0               1.0   \n",
       "2824            1.0          0.0              0.0               1.0   \n",
       "3799            1.0          0.0              0.0               1.0   \n",
       "\n",
       "      Residence_type_Rural  Residence_type_Urban  \n",
       "1547                   1.0                   0.0  \n",
       "4976                   0.0                   1.0  \n",
       "246                    1.0                   0.0  \n",
       "2824                   1.0                   0.0  \n",
       "3799                   1.0                   0.0  "
      ]
     },
     "execution_count": 68,
     "metadata": {},
     "output_type": "execute_result"
    }
   ],
   "source": [
    "X_train_obj_ohe = pd.DataFrame(X_train_obj_trans, columns=ohe.get_feature_names_out(), index=X_train.index)\n",
    "X_test_obj_ohe = pd.DataFrame(X_test_obj_trans, columns=ohe.get_feature_names_out(), index=X_test.index)\n",
    "\n",
    "X_train_obj_ohe.head()\n"
   ]
  },
  {
   "cell_type": "code",
   "execution_count": 69,
   "metadata": {},
   "outputs": [],
   "source": [
    "X_train_trans = pd.concat([X_train_num_norm, X_train_obj_ohe], axis=1)\n",
    "X_test_trans = pd.concat([X_test_num_norm, X_test_obj_ohe], axis=1)"
   ]
  },
  {
   "cell_type": "code",
   "execution_count": 70,
   "metadata": {},
   "outputs": [
    {
     "data": {
      "application/vnd.microsoft.datawrangler.viewer.v0+json": {
       "columns": [
        {
         "name": "stroke",
         "rawType": "int64",
         "type": "integer"
        },
        {
         "name": "count",
         "rawType": "int64",
         "type": "integer"
        }
       ],
       "ref": "073111d6-5f94-4c9e-9c8d-a259b8412ef6",
       "rows": [
        [
         "0",
         "4860"
        ],
        [
         "1",
         "249"
        ]
       ],
       "shape": {
        "columns": 1,
        "rows": 2
       }
      },
      "text/plain": [
       "stroke\n",
       "0    4860\n",
       "1     249\n",
       "Name: count, dtype: int64"
      ]
     },
     "execution_count": 70,
     "metadata": {},
     "output_type": "execute_result"
    }
   ],
   "source": [
    "target.value_counts()"
   ]
  },
  {
   "cell_type": "markdown",
   "metadata": {},
   "source": [
    "-> Imbalanced target"
   ]
  },
  {
   "cell_type": "markdown",
   "metadata": {},
   "source": [
    "# 1.KNN model"
   ]
  },
  {
   "cell_type": "markdown",
   "metadata": {},
   "source": [
    "Using KNeighborsClassifier because the predicted \"stroke\" column is categorical\n",
    "For classification we focus on precision,recall"
   ]
  },
  {
   "cell_type": "markdown",
   "metadata": {},
   "source": [
    "Train KNN for imbalanced data in target"
   ]
  },
  {
   "cell_type": "code",
   "execution_count": 87,
   "metadata": {},
   "outputs": [
    {
     "data": {
      "application/vnd.microsoft.datawrangler.viewer.v0+json": {
       "columns": [
        {
         "name": "index",
         "rawType": "int64",
         "type": "integer"
        },
        {
         "name": "age",
         "rawType": "float64",
         "type": "float"
        },
        {
         "name": "hypertension",
         "rawType": "float64",
         "type": "float"
        },
        {
         "name": "heart_disease",
         "rawType": "float64",
         "type": "float"
        },
        {
         "name": "work_type",
         "rawType": "float64",
         "type": "float"
        },
        {
         "name": "avg_glucose_level",
         "rawType": "float64",
         "type": "float"
        },
        {
         "name": "bmi",
         "rawType": "float64",
         "type": "float"
        },
        {
         "name": "smoking_status",
         "rawType": "float64",
         "type": "float"
        },
        {
         "name": "gender_Female",
         "rawType": "float64",
         "type": "float"
        },
        {
         "name": "gender_Male",
         "rawType": "float64",
         "type": "float"
        },
        {
         "name": "ever_married_No",
         "rawType": "float64",
         "type": "float"
        },
        {
         "name": "ever_married_Yes",
         "rawType": "float64",
         "type": "float"
        },
        {
         "name": "Residence_type_Rural",
         "rawType": "float64",
         "type": "float"
        },
        {
         "name": "Residence_type_Urban",
         "rawType": "float64",
         "type": "float"
        }
       ],
       "ref": "6e32f66b-5818-4e9d-966a-1c077e44280b",
       "rows": [
        [
         "1547",
         "0.71923828125",
         "0.0",
         "1.0",
         "0.75",
         "0.6456467546856246",
         "0.2302405498281787",
         "0.6666666666666666",
         "0.0",
         "1.0",
         "0.0",
         "1.0",
         "1.0",
         "0.0"
        ],
        [
         "4976",
         "0.21875",
         "0.0",
         "0.0",
         "1.0",
         "0.21618502446680826",
         "0.40893470790378006",
         "0.3333333333333333",
         "1.0",
         "0.0",
         "1.0",
         "0.0",
         "0.0",
         "1.0"
        ],
        [
         "246",
         "0.91455078125",
         "0.0",
         "0.0",
         "0.75",
         "0.10931585264518512",
         "0.21764032073310424",
         "0.3333333333333333",
         "1.0",
         "0.0",
         "0.0",
         "1.0",
         "1.0",
         "0.0"
        ],
        [
         "2824",
         "0.49951171875",
         "0.0",
         "0.0",
         "1.0",
         "0.1952266642045979",
         "0.17411225658648338",
         "0.0",
         "1.0",
         "0.0",
         "0.0",
         "1.0",
         "1.0",
         "0.0"
        ],
        [
         "3799",
         "0.4873046875",
         "0.0",
         "0.0",
         "1.0",
         "0.1718677869079494",
         "0.3172966781214204",
         "0.0",
         "1.0",
         "0.0",
         "0.0",
         "1.0",
         "1.0",
         "0.0"
        ],
        [
         "3351",
         "0.93896484375",
         "0.0",
         "0.0",
         "1.0",
         "0.20182808604930297",
         "0.19473081328751435",
         "0.6666666666666666",
         "0.0",
         "1.0",
         "0.0",
         "1.0",
         "1.0",
         "0.0"
        ],
        [
         "3829",
         "0.072265625",
         "0.0",
         "0.0",
         "0.25",
         "0.1637891238112824",
         "0.07216494845360825",
         "0.6666666666666666",
         "0.0",
         "1.0",
         "1.0",
         "0.0",
         "0.0",
         "1.0"
        ],
        [
         "4911",
         "0.4140625",
         "0.0",
         "0.0",
         "1.0",
         "0.06435232203859298",
         "0.21420389461626577",
         "1.0",
         "1.0",
         "0.0",
         "1.0",
         "0.0",
         "1.0",
         "0.0"
        ],
        [
         "2817",
         "0.76806640625",
         "0.0",
         "0.0",
         "1.0",
         "0.02354353245314378",
         "0.21649484536082475",
         "0.0",
         "1.0",
         "0.0",
         "0.0",
         "1.0",
         "1.0",
         "0.0"
        ],
        [
         "294",
         "0.267578125",
         "0.0",
         "0.0",
         "1.0",
         "0.11397839534669008",
         "0.19931271477663232",
         "0.6666666666666666",
         "1.0",
         "0.0",
         "1.0",
         "0.0",
         "1.0",
         "0.0"
        ],
        [
         "4481",
         "0.52392578125",
         "0.0",
         "0.0",
         "1.0",
         "0.1456467546856246",
         "0.26345933562428403",
         "0.0",
         "1.0",
         "0.0",
         "0.0",
         "1.0",
         "0.0",
         "1.0"
        ],
        [
         "1515",
         "1.0",
         "0.0",
         "0.0",
         "0.5",
         "0.014680084941372018",
         "0.11569301260022909",
         "0.0",
         "1.0",
         "0.0",
         "0.0",
         "1.0",
         "1.0",
         "0.0"
        ],
        [
         "3838",
         "0.6826171875",
         "0.0",
         "0.0",
         "0.75",
         "0.3121133782660881",
         "0.3115693012600229",
         "0.3333333333333333",
         "0.0",
         "1.0",
         "0.0",
         "1.0",
         "0.0",
         "1.0"
        ],
        [
         "1590",
         "0.15771484375",
         "0.0",
         "0.0",
         "0.25",
         "0.20316683593389345",
         "0.143184421534937",
         "0.6666666666666666",
         "1.0",
         "0.0",
         "1.0",
         "0.0",
         "0.0",
         "1.0"
        ],
        [
         "514",
         "0.49951171875",
         "0.0",
         "0.0",
         "0.5",
         "0.09089650078478445",
         "0.33676975945017185",
         "1.0",
         "0.0",
         "1.0",
         "1.0",
         "0.0",
         "1.0",
         "0.0"
        ],
        [
         "1011",
         "0.86572265625",
         "0.0",
         "0.0",
         "1.0",
         "0.7976641122703351",
         "0.24398625429553267",
         "0.3333333333333333",
         "0.0",
         "1.0",
         "0.0",
         "1.0",
         "1.0",
         "0.0"
        ],
        [
         "3993",
         "0.49951171875",
         "0.0",
         "0.0",
         "1.0",
         "0.1708983473363494",
         "0.22107674684994272",
         "0.3333333333333333",
         "1.0",
         "0.0",
         "0.0",
         "1.0",
         "0.0",
         "1.0"
        ],
        [
         "2948",
         "0.8291015625",
         "0.0",
         "0.0",
         "1.0",
         "0.13927615178653868",
         "0.19243986254295536",
         "0.3333333333333333",
         "1.0",
         "0.0",
         "0.0",
         "1.0",
         "1.0",
         "0.0"
        ],
        [
         "3363",
         "0.74365234375",
         "0.0",
         "0.0",
         "1.0",
         "0.12062598098051891",
         "0.37915234822451316",
         "1.0",
         "0.0",
         "1.0",
         "0.0",
         "1.0",
         "1.0",
         "0.0"
        ],
        [
         "4179",
         "0.74365234375",
         "0.0",
         "0.0",
         "0.75",
         "0.08364878589234603",
         "0.281786941580756",
         "0.0",
         "0.0",
         "1.0",
         "0.0",
         "1.0",
         "0.0",
         "1.0"
        ],
        [
         "406",
         "0.69482421875",
         "0.0",
         "0.0",
         "1.0",
         "0.1456467546856246",
         "0.32875143184421535",
         "0.6666666666666666",
         "0.0",
         "1.0",
         "0.0",
         "1.0",
         "1.0",
         "0.0"
        ],
        [
         "4387",
         "0.54833984375",
         "0.0",
         "0.0",
         "0.5",
         "0.1147631797617949",
         "0.35624284077892326",
         "0.0",
         "1.0",
         "0.0",
         "0.0",
         "1.0",
         "0.0",
         "1.0"
        ],
        [
         "32",
         "1.0",
         "1.0",
         "0.0",
         "0.75",
         "0.6546025297756439",
         "0.13631156930126004",
         "0.0",
         "1.0",
         "0.0",
         "0.0",
         "1.0",
         "0.0",
         "1.0"
        ],
        [
         "1567",
         "0.5361328125",
         "0.0",
         "0.0",
         "1.0",
         "0.04699473732803988",
         "0.13516609392898055",
         "1.0",
         "1.0",
         "0.0",
         "1.0",
         "0.0",
         "1.0",
         "0.0"
        ],
        [
         "2565",
         "0.658203125",
         "0.0",
         "0.0",
         "1.0",
         "0.7126765764933986",
         "0.3161512027491409",
         "0.3333333333333333",
         "0.0",
         "1.0",
         "0.0",
         "1.0",
         "1.0",
         "0.0"
        ],
        [
         "2717",
         "0.06005859375",
         "0.0",
         "0.0",
         "0.25",
         "0.09574369864278459",
         "0.11111111111111112",
         "0.6666666666666666",
         "1.0",
         "0.0",
         "1.0",
         "0.0",
         "0.0",
         "1.0"
        ],
        [
         "4876",
         "0.57275390625",
         "0.0",
         "0.0",
         "1.0",
         "0.20422860308374113",
         "0.15463917525773196",
         "1.0",
         "1.0",
         "0.0",
         "0.0",
         "1.0",
         "0.0",
         "1.0"
        ],
        [
         "1196",
         "0.40185546875",
         "0.0",
         "0.0",
         "1.0",
         "0.11444003323792817",
         "0.26575028636884307",
         "0.0",
         "1.0",
         "0.0",
         "0.0",
         "1.0",
         "0.0",
         "1.0"
        ],
        [
         "3740",
         "0.31640625",
         "0.0",
         "0.0",
         "1.0",
         "0.16725140799556826",
         "0.15463917525773196",
         "0.0",
         "1.0",
         "0.0",
         "0.0",
         "1.0",
         "0.0",
         "1.0"
        ],
        [
         "630",
         "0.7314453125",
         "0.0",
         "0.0",
         "0.75",
         "0.016295817560705417",
         "0.22680412371134023",
         "0.0",
         "1.0",
         "0.0",
         "0.0",
         "1.0",
         "1.0",
         "0.0"
        ],
        [
         "2814",
         "0.755859375",
         "0.0",
         "0.0",
         "1.0",
         "0.11817930015695688",
         "0.1798396334478809",
         "0.3333333333333333",
         "0.0",
         "1.0",
         "0.0",
         "1.0",
         "1.0",
         "0.0"
        ],
        [
         "1482",
         "0.49951171875",
         "0.0",
         "0.0",
         "0.5",
         "0.11614809343550919",
         "0.3092783505154639",
         "0.0",
         "1.0",
         "0.0",
         "0.0",
         "1.0",
         "0.0",
         "1.0"
        ],
        [
         "2066",
         "0.365234375",
         "0.0",
         "0.0",
         "1.0",
         "0.09583602622103221",
         "0.25773195876288657",
         "0.6666666666666666",
         "1.0",
         "0.0",
         "0.0",
         "1.0",
         "0.0",
         "1.0"
        ],
        [
         "2799",
         "0.755859375",
         "0.0",
         "1.0",
         "0.5",
         "0.3196842396823931",
         "0.20618556701030927",
         "0.0",
         "1.0",
         "0.0",
         "0.0",
         "1.0",
         "0.0",
         "1.0"
        ],
        [
         "4879",
         "0.03564453125",
         "0.0",
         "0.0",
         "0.25",
         "0.12353429969531898",
         "0.0882016036655212",
         "0.6666666666666666",
         "0.0",
         "1.0",
         "1.0",
         "0.0",
         "0.0",
         "1.0"
        ],
        [
         "1351",
         "0.7802734375",
         "0.0",
         "0.0",
         "0.5",
         "0.10954667159080417",
         "0.27033218785796104",
         "0.0",
         "1.0",
         "0.0",
         "0.0",
         "1.0",
         "1.0",
         "0.0"
        ],
        [
         "1343",
         "0.9267578125",
         "1.0",
         "0.0",
         "0.75",
         "0.6576493398578156",
         "0.2806414662084765",
         "0.3333333333333333",
         "0.0",
         "1.0",
         "0.0",
         "1.0",
         "1.0",
         "0.0"
        ],
        [
         "3882",
         "0.98779296875",
         "1.0",
         "1.0",
         "0.5",
         "0.7516388145138954",
         "0.15807560137457044",
         "0.3333333333333333",
         "0.0",
         "1.0",
         "0.0",
         "1.0",
         "1.0",
         "0.0"
        ],
        [
         "1329",
         "0.35302734375",
         "0.0",
         "0.0",
         "1.0",
         "0.08600313913766044",
         "0.20618556701030927",
         "0.0",
         "0.0",
         "1.0",
         "1.0",
         "0.0",
         "0.0",
         "1.0"
        ],
        [
         "2425",
         "0.10888671875",
         "0.0",
         "0.0",
         "0.25",
         "0.2763826054842582",
         "0.09736540664375716",
         "0.6666666666666666",
         "0.0",
         "1.0",
         "1.0",
         "0.0",
         "0.0",
         "1.0"
        ],
        [
         "5036",
         "0.6826171875",
         "0.0",
         "0.0",
         "0.75",
         "0.3266088080509648",
         "0.16380297823596796",
         "0.0",
         "0.0",
         "1.0",
         "0.0",
         "1.0",
         "1.0",
         "0.0"
        ],
        [
         "2450",
         "0.13330078125",
         "0.0",
         "0.0",
         "0.25",
         "0.41067306804542525",
         "0.06758304696449026",
         "0.3333333333333333",
         "0.0",
         "1.0",
         "1.0",
         "0.0",
         "0.0",
         "1.0"
        ],
        [
         "1571",
         "0.79248046875",
         "0.0",
         "0.0",
         "0.75",
         "0.23160373003416124",
         "0.16953035509736541",
         "0.3333333333333333",
         "1.0",
         "0.0",
         "0.0",
         "1.0",
         "1.0",
         "0.0"
        ],
        [
         "2759",
         "0.57275390625",
         "0.0",
         "0.0",
         "0.5",
         "0.2611023912842767",
         "0.33447880870561286",
         "0.0",
         "1.0",
         "0.0",
         "0.0",
         "1.0",
         "1.0",
         "0.0"
        ],
        [
         "720",
         "0.98779296875",
         "0.0",
         "0.0",
         "0.75",
         "0.16517403748499682",
         "0.23940435280641464",
         "0.3333333333333333",
         "1.0",
         "0.0",
         "0.0",
         "1.0",
         "0.0",
         "1.0"
        ],
        [
         "938",
         "0.27978515625",
         "0.0",
         "0.0",
         "1.0",
         "0.17426830394238763",
         "0.22680412371134023",
         "0.0",
         "1.0",
         "0.0",
         "1.0",
         "0.0",
         "1.0",
         "0.0"
        ],
        [
         "122",
         "0.9755859375",
         "0.0",
         "0.0",
         "1.0",
         "0.9440956513710644",
         "0.24513172966781216",
         "1.0",
         "0.0",
         "1.0",
         "0.0",
         "1.0",
         "1.0",
         "0.0"
        ],
        [
         "1177",
         "0.27978515625",
         "0.0",
         "0.0",
         "1.0",
         "0.2809528206075155",
         "0.13745704467353953",
         "0.0",
         "0.0",
         "1.0",
         "1.0",
         "0.0",
         "0.0",
         "1.0"
        ],
        [
         "2323",
         "0.21875",
         "0.0",
         "0.0",
         "1.0",
         "0.08387960483796514",
         "0.20389461626575028",
         "1.0",
         "1.0",
         "0.0",
         "1.0",
         "0.0",
         "1.0",
         "0.0"
        ],
        [
         "161",
         "0.86572265625",
         "0.0",
         "1.0",
         "1.0",
         "0.12298033422583332",
         "0.21298094973418863",
         "1.0",
         "0.0",
         "1.0",
         "0.0",
         "1.0",
         "0.0",
         "1.0"
        ]
       ],
       "shape": {
        "columns": 13,
        "rows": 4087
       }
      },
      "text/html": [
       "<div>\n",
       "<style scoped>\n",
       "    .dataframe tbody tr th:only-of-type {\n",
       "        vertical-align: middle;\n",
       "    }\n",
       "\n",
       "    .dataframe tbody tr th {\n",
       "        vertical-align: top;\n",
       "    }\n",
       "\n",
       "    .dataframe thead th {\n",
       "        text-align: right;\n",
       "    }\n",
       "</style>\n",
       "<table border=\"1\" class=\"dataframe\">\n",
       "  <thead>\n",
       "    <tr style=\"text-align: right;\">\n",
       "      <th></th>\n",
       "      <th>age</th>\n",
       "      <th>hypertension</th>\n",
       "      <th>heart_disease</th>\n",
       "      <th>work_type</th>\n",
       "      <th>avg_glucose_level</th>\n",
       "      <th>bmi</th>\n",
       "      <th>smoking_status</th>\n",
       "      <th>gender_Female</th>\n",
       "      <th>gender_Male</th>\n",
       "      <th>ever_married_No</th>\n",
       "      <th>ever_married_Yes</th>\n",
       "      <th>Residence_type_Rural</th>\n",
       "      <th>Residence_type_Urban</th>\n",
       "    </tr>\n",
       "  </thead>\n",
       "  <tbody>\n",
       "    <tr>\n",
       "      <th>1547</th>\n",
       "      <td>0.719238</td>\n",
       "      <td>0.0</td>\n",
       "      <td>1.0</td>\n",
       "      <td>0.75</td>\n",
       "      <td>0.645647</td>\n",
       "      <td>0.230241</td>\n",
       "      <td>0.666667</td>\n",
       "      <td>0.0</td>\n",
       "      <td>1.0</td>\n",
       "      <td>0.0</td>\n",
       "      <td>1.0</td>\n",
       "      <td>1.0</td>\n",
       "      <td>0.0</td>\n",
       "    </tr>\n",
       "    <tr>\n",
       "      <th>4976</th>\n",
       "      <td>0.218750</td>\n",
       "      <td>0.0</td>\n",
       "      <td>0.0</td>\n",
       "      <td>1.00</td>\n",
       "      <td>0.216185</td>\n",
       "      <td>0.408935</td>\n",
       "      <td>0.333333</td>\n",
       "      <td>1.0</td>\n",
       "      <td>0.0</td>\n",
       "      <td>1.0</td>\n",
       "      <td>0.0</td>\n",
       "      <td>0.0</td>\n",
       "      <td>1.0</td>\n",
       "    </tr>\n",
       "    <tr>\n",
       "      <th>246</th>\n",
       "      <td>0.914551</td>\n",
       "      <td>0.0</td>\n",
       "      <td>0.0</td>\n",
       "      <td>0.75</td>\n",
       "      <td>0.109316</td>\n",
       "      <td>0.217640</td>\n",
       "      <td>0.333333</td>\n",
       "      <td>1.0</td>\n",
       "      <td>0.0</td>\n",
       "      <td>0.0</td>\n",
       "      <td>1.0</td>\n",
       "      <td>1.0</td>\n",
       "      <td>0.0</td>\n",
       "    </tr>\n",
       "    <tr>\n",
       "      <th>2824</th>\n",
       "      <td>0.499512</td>\n",
       "      <td>0.0</td>\n",
       "      <td>0.0</td>\n",
       "      <td>1.00</td>\n",
       "      <td>0.195227</td>\n",
       "      <td>0.174112</td>\n",
       "      <td>0.000000</td>\n",
       "      <td>1.0</td>\n",
       "      <td>0.0</td>\n",
       "      <td>0.0</td>\n",
       "      <td>1.0</td>\n",
       "      <td>1.0</td>\n",
       "      <td>0.0</td>\n",
       "    </tr>\n",
       "    <tr>\n",
       "      <th>3799</th>\n",
       "      <td>0.487305</td>\n",
       "      <td>0.0</td>\n",
       "      <td>0.0</td>\n",
       "      <td>1.00</td>\n",
       "      <td>0.171868</td>\n",
       "      <td>0.317297</td>\n",
       "      <td>0.000000</td>\n",
       "      <td>1.0</td>\n",
       "      <td>0.0</td>\n",
       "      <td>0.0</td>\n",
       "      <td>1.0</td>\n",
       "      <td>1.0</td>\n",
       "      <td>0.0</td>\n",
       "    </tr>\n",
       "    <tr>\n",
       "      <th>...</th>\n",
       "      <td>...</td>\n",
       "      <td>...</td>\n",
       "      <td>...</td>\n",
       "      <td>...</td>\n",
       "      <td>...</td>\n",
       "      <td>...</td>\n",
       "      <td>...</td>\n",
       "      <td>...</td>\n",
       "      <td>...</td>\n",
       "      <td>...</td>\n",
       "      <td>...</td>\n",
       "      <td>...</td>\n",
       "      <td>...</td>\n",
       "    </tr>\n",
       "    <tr>\n",
       "      <th>4932</th>\n",
       "      <td>0.340820</td>\n",
       "      <td>1.0</td>\n",
       "      <td>0.0</td>\n",
       "      <td>1.00</td>\n",
       "      <td>0.145370</td>\n",
       "      <td>0.324170</td>\n",
       "      <td>1.000000</td>\n",
       "      <td>0.0</td>\n",
       "      <td>1.0</td>\n",
       "      <td>1.0</td>\n",
       "      <td>0.0</td>\n",
       "      <td>0.0</td>\n",
       "      <td>1.0</td>\n",
       "    </tr>\n",
       "    <tr>\n",
       "      <th>3265</th>\n",
       "      <td>0.743652</td>\n",
       "      <td>0.0</td>\n",
       "      <td>0.0</td>\n",
       "      <td>0.75</td>\n",
       "      <td>0.123904</td>\n",
       "      <td>0.224513</td>\n",
       "      <td>0.000000</td>\n",
       "      <td>0.0</td>\n",
       "      <td>1.0</td>\n",
       "      <td>0.0</td>\n",
       "      <td>1.0</td>\n",
       "      <td>1.0</td>\n",
       "      <td>0.0</td>\n",
       "    </tr>\n",
       "    <tr>\n",
       "      <th>1653</th>\n",
       "      <td>0.536133</td>\n",
       "      <td>0.0</td>\n",
       "      <td>0.0</td>\n",
       "      <td>1.00</td>\n",
       "      <td>0.182762</td>\n",
       "      <td>0.207331</td>\n",
       "      <td>1.000000</td>\n",
       "      <td>0.0</td>\n",
       "      <td>1.0</td>\n",
       "      <td>0.0</td>\n",
       "      <td>1.0</td>\n",
       "      <td>1.0</td>\n",
       "      <td>0.0</td>\n",
       "    </tr>\n",
       "    <tr>\n",
       "      <th>2607</th>\n",
       "      <td>0.255371</td>\n",
       "      <td>0.0</td>\n",
       "      <td>0.0</td>\n",
       "      <td>1.00</td>\n",
       "      <td>0.303850</td>\n",
       "      <td>0.222222</td>\n",
       "      <td>0.333333</td>\n",
       "      <td>0.0</td>\n",
       "      <td>1.0</td>\n",
       "      <td>1.0</td>\n",
       "      <td>0.0</td>\n",
       "      <td>0.0</td>\n",
       "      <td>1.0</td>\n",
       "    </tr>\n",
       "    <tr>\n",
       "      <th>2732</th>\n",
       "      <td>0.707031</td>\n",
       "      <td>1.0</td>\n",
       "      <td>0.0</td>\n",
       "      <td>0.50</td>\n",
       "      <td>0.020312</td>\n",
       "      <td>0.262314</td>\n",
       "      <td>0.000000</td>\n",
       "      <td>1.0</td>\n",
       "      <td>0.0</td>\n",
       "      <td>0.0</td>\n",
       "      <td>1.0</td>\n",
       "      <td>1.0</td>\n",
       "      <td>0.0</td>\n",
       "    </tr>\n",
       "  </tbody>\n",
       "</table>\n",
       "<p>4087 rows × 13 columns</p>\n",
       "</div>"
      ],
      "text/plain": [
       "           age  hypertension  heart_disease  work_type  avg_glucose_level  \\\n",
       "1547  0.719238           0.0            1.0       0.75           0.645647   \n",
       "4976  0.218750           0.0            0.0       1.00           0.216185   \n",
       "246   0.914551           0.0            0.0       0.75           0.109316   \n",
       "2824  0.499512           0.0            0.0       1.00           0.195227   \n",
       "3799  0.487305           0.0            0.0       1.00           0.171868   \n",
       "...        ...           ...            ...        ...                ...   \n",
       "4932  0.340820           1.0            0.0       1.00           0.145370   \n",
       "3265  0.743652           0.0            0.0       0.75           0.123904   \n",
       "1653  0.536133           0.0            0.0       1.00           0.182762   \n",
       "2607  0.255371           0.0            0.0       1.00           0.303850   \n",
       "2732  0.707031           1.0            0.0       0.50           0.020312   \n",
       "\n",
       "           bmi  smoking_status  gender_Female  gender_Male  ever_married_No  \\\n",
       "1547  0.230241        0.666667            0.0          1.0              0.0   \n",
       "4976  0.408935        0.333333            1.0          0.0              1.0   \n",
       "246   0.217640        0.333333            1.0          0.0              0.0   \n",
       "2824  0.174112        0.000000            1.0          0.0              0.0   \n",
       "3799  0.317297        0.000000            1.0          0.0              0.0   \n",
       "...        ...             ...            ...          ...              ...   \n",
       "4932  0.324170        1.000000            0.0          1.0              1.0   \n",
       "3265  0.224513        0.000000            0.0          1.0              0.0   \n",
       "1653  0.207331        1.000000            0.0          1.0              0.0   \n",
       "2607  0.222222        0.333333            0.0          1.0              1.0   \n",
       "2732  0.262314        0.000000            1.0          0.0              0.0   \n",
       "\n",
       "      ever_married_Yes  Residence_type_Rural  Residence_type_Urban  \n",
       "1547               1.0                   1.0                   0.0  \n",
       "4976               0.0                   0.0                   1.0  \n",
       "246                1.0                   1.0                   0.0  \n",
       "2824               1.0                   1.0                   0.0  \n",
       "3799               1.0                   1.0                   0.0  \n",
       "...                ...                   ...                   ...  \n",
       "4932               0.0                   0.0                   1.0  \n",
       "3265               1.0                   1.0                   0.0  \n",
       "1653               1.0                   1.0                   0.0  \n",
       "2607               0.0                   0.0                   1.0  \n",
       "2732               1.0                   1.0                   0.0  \n",
       "\n",
       "[4087 rows x 13 columns]"
      ]
     },
     "execution_count": 87,
     "metadata": {},
     "output_type": "execute_result"
    }
   ],
   "source": [
    "X_train_trans"
   ]
  },
  {
   "cell_type": "code",
   "execution_count": 71,
   "metadata": {},
   "outputs": [
    {
     "name": "stdout",
     "output_type": "stream",
     "text": [
      "              precision    recall  f1-score   support\n",
      "\n",
      "           0       0.95      0.99      0.97       968\n",
      "           1       0.14      0.02      0.03        54\n",
      "\n",
      "    accuracy                           0.94      1022\n",
      "   macro avg       0.55      0.51      0.50      1022\n",
      "weighted avg       0.91      0.94      0.92      1022\n",
      "\n"
     ]
    }
   ],
   "source": [
    "knn = KNeighborsClassifier()\n",
    "knn.fit(X_train_trans, y_train)\n",
    "y_test_knn_pred = knn.predict(X_test_trans)\n",
    "\n",
    "accuracy_test_knn = knn.score(X_test_trans, y_test)\n",
    "print(classification_report(y_pred = y_test_knn_pred, y_true = y_test))"
   ]
  },
  {
   "cell_type": "code",
   "execution_count": 72,
   "metadata": {},
   "outputs": [
    {
     "name": "stdout",
     "output_type": "stream",
     "text": [
      "The accuracy of the model with Classification for imbalanced data is  0.94\n"
     ]
    }
   ],
   "source": [
    "# print(f\"The accuracy of the model with trained and imbalanced data is {accuracy_train_knn: .2f}\")\n",
    "print(f\"The accuracy of the model with Classification for imbalanced data is {accuracy_test_knn: .2f}\")"
   ]
  },
  {
   "cell_type": "markdown",
   "metadata": {},
   "source": [
    "### Hyperparam tuning before Oversampling"
   ]
  },
  {
   "cell_type": "code",
   "execution_count": 73,
   "metadata": {},
   "outputs": [],
   "source": [
    "import tuning_func as tuneFunc"
   ]
  },
  {
   "cell_type": "code",
   "execution_count": 89,
   "metadata": {},
   "outputs": [
    {
     "name": "stderr",
     "output_type": "stream",
     "text": [
      "[I 2025-08-01 10:56:16,685] A new study created in memory with name: no-name-0f11ae8e-19a5-436b-b510-76550f6d2e9b\n"
     ]
    },
    {
     "name": "stderr",
     "output_type": "stream",
     "text": [
      "[I 2025-08-01 10:56:17,814] Trial 0 finished with value: 0.21513799665070868 and parameters: {'n_neighbors': 11, 'weights': 'distance', 'p': 2}. Best is trial 0 with value: 0.21513799665070868.\n",
      "[I 2025-08-01 10:56:21,950] Trial 1 finished with value: 0.21603117604153965 and parameters: {'n_neighbors': 10, 'weights': 'distance', 'p': 3}. Best is trial 0 with value: 0.21513799665070868.\n",
      "[I 2025-08-01 10:56:23,146] Trial 2 finished with value: 0.21692066528717024 and parameters: {'n_neighbors': 9, 'weights': 'distance', 'p': 1}. Best is trial 0 with value: 0.21513799665070868.\n",
      "[I 2025-08-01 10:56:24,568] Trial 3 finished with value: 0.21242850208590633 and parameters: {'n_neighbors': 11, 'weights': 'uniform', 'p': 1}. Best is trial 3 with value: 0.21242850208590633.\n",
      "[I 2025-08-01 10:56:26,750] Trial 4 finished with value: 0.21608979325719938 and parameters: {'n_neighbors': 10, 'weights': 'distance', 'p': 2}. Best is trial 3 with value: 0.21242850208590633.\n",
      "[I 2025-08-01 10:56:27,662] Trial 5 finished with value: 0.20983947867971633 and parameters: {'n_neighbors': 24, 'weights': 'distance', 'p': 1}. Best is trial 5 with value: 0.20983947867971633.\n",
      "[I 2025-08-01 10:56:28,420] Trial 6 finished with value: 0.20940236845929272 and parameters: {'n_neighbors': 23, 'weights': 'uniform', 'p': 2}. Best is trial 6 with value: 0.20940236845929272.\n",
      "[I 2025-08-01 10:56:29,098] Trial 7 finished with value: 0.2211855377020194 and parameters: {'n_neighbors': 6, 'weights': 'distance', 'p': 1}. Best is trial 6 with value: 0.20940236845929272.\n",
      "[I 2025-08-01 10:56:31,987] Trial 8 finished with value: 0.21063522214225622 and parameters: {'n_neighbors': 15, 'weights': 'uniform', 'p': 3}. Best is trial 6 with value: 0.20940236845929272.\n",
      "[I 2025-08-01 10:56:32,663] Trial 9 finished with value: 0.20902148750451036 and parameters: {'n_neighbors': 22, 'weights': 'uniform', 'p': 1}. Best is trial 9 with value: 0.20902148750451036.\n",
      "[I 2025-08-01 10:56:33,504] Trial 10 finished with value: 0.209697627786312 and parameters: {'n_neighbors': 18, 'weights': 'uniform', 'p': 1}. Best is trial 9 with value: 0.20902148750451036.\n",
      "[I 2025-08-01 10:56:34,688] Trial 11 finished with value: 0.20940018771607943 and parameters: {'n_neighbors': 25, 'weights': 'uniform', 'p': 2}. Best is trial 9 with value: 0.20902148750451036.\n",
      "[I 2025-08-01 10:56:35,495] Trial 12 finished with value: 0.2098400730194558 and parameters: {'n_neighbors': 19, 'weights': 'uniform', 'p': 2}. Best is trial 9 with value: 0.20902148750451036.\n",
      "[I 2025-08-01 10:56:36,254] Trial 13 finished with value: 0.20940018771607943 and parameters: {'n_neighbors': 25, 'weights': 'uniform', 'p': 2}. Best is trial 9 with value: 0.20902148750451036.\n",
      "[I 2025-08-01 10:56:39,473] Trial 14 finished with value: 0.21007066842264796 and parameters: {'n_neighbors': 20, 'weights': 'uniform', 'p': 3}. Best is trial 9 with value: 0.20902148750451036.\n",
      "[I 2025-08-01 10:56:40,146] Trial 15 finished with value: 0.20880640583474772 and parameters: {'n_neighbors': 21, 'weights': 'uniform', 'p': 1}. Best is trial 15 with value: 0.20880640583474772.\n",
      "[I 2025-08-01 10:56:40,807] Trial 16 finished with value: 0.20988807293100115 and parameters: {'n_neighbors': 16, 'weights': 'uniform', 'p': 1}. Best is trial 15 with value: 0.20880640583474772.\n",
      "[I 2025-08-01 10:56:41,516] Trial 17 finished with value: 0.20880640583474772 and parameters: {'n_neighbors': 21, 'weights': 'uniform', 'p': 1}. Best is trial 15 with value: 0.20880640583474772.\n",
      "[I 2025-08-01 10:56:42,220] Trial 18 finished with value: 0.20880640583474772 and parameters: {'n_neighbors': 21, 'weights': 'uniform', 'p': 1}. Best is trial 15 with value: 0.20880640583474772.\n",
      "[I 2025-08-01 10:56:42,973] Trial 19 finished with value: 0.21002295116812997 and parameters: {'n_neighbors': 17, 'weights': 'uniform', 'p': 1}. Best is trial 15 with value: 0.20880640583474772.\n",
      "[I 2025-08-01 10:56:43,661] Trial 20 finished with value: 0.21097801082713802 and parameters: {'n_neighbors': 14, 'weights': 'uniform', 'p': 2}. Best is trial 15 with value: 0.20880640583474772.\n",
      "[I 2025-08-01 10:56:44,368] Trial 21 finished with value: 0.20880640583474772 and parameters: {'n_neighbors': 21, 'weights': 'uniform', 'p': 1}. Best is trial 15 with value: 0.20880640583474772.\n",
      "[I 2025-08-01 10:56:45,084] Trial 22 finished with value: 0.20880640583474772 and parameters: {'n_neighbors': 21, 'weights': 'uniform', 'p': 1}. Best is trial 15 with value: 0.20880640583474772.\n",
      "[I 2025-08-01 10:56:45,763] Trial 23 finished with value: 0.20886816224038843 and parameters: {'n_neighbors': 19, 'weights': 'uniform', 'p': 1}. Best is trial 15 with value: 0.20880640583474772.\n",
      "[I 2025-08-01 10:56:46,306] Trial 24 finished with value: 0.24710577326945726 and parameters: {'n_neighbors': 2, 'weights': 'uniform', 'p': 1}. Best is trial 15 with value: 0.20880640583474772.\n",
      "[I 2025-08-01 10:56:46,981] Trial 25 finished with value: 0.20885991657192413 and parameters: {'n_neighbors': 23, 'weights': 'uniform', 'p': 1}. Best is trial 15 with value: 0.20880640583474772.\n",
      "[I 2025-08-01 10:56:47,665] Trial 26 finished with value: 0.21002295116812997 and parameters: {'n_neighbors': 17, 'weights': 'uniform', 'p': 1}. Best is trial 15 with value: 0.20880640583474772.\n",
      "[I 2025-08-01 10:56:49,128] Trial 27 finished with value: 0.20948935514302902 and parameters: {'n_neighbors': 20, 'weights': 'uniform', 'p': 2}. Best is trial 15 with value: 0.20880640583474772.\n",
      "[I 2025-08-01 10:56:50,551] Trial 28 finished with value: 0.21113569430316498 and parameters: {'n_neighbors': 13, 'weights': 'uniform', 'p': 1}. Best is trial 15 with value: 0.20880640583474772.\n",
      "[I 2025-08-01 10:56:51,922] Trial 29 finished with value: 0.210489936510099 and parameters: {'n_neighbors': 23, 'weights': 'distance', 'p': 2}. Best is trial 15 with value: 0.20880640583474772.\n",
      "[I 2025-08-01 10:56:54,855] Trial 30 finished with value: 0.20880640583474772 and parameters: {'n_neighbors': 21, 'weights': 'uniform', 'p': 1}. Best is trial 15 with value: 0.20880640583474772.\n",
      "[I 2025-08-01 10:57:04,299] Trial 31 finished with value: 0.20880640583474772 and parameters: {'n_neighbors': 21, 'weights': 'uniform', 'p': 1}. Best is trial 15 with value: 0.20880640583474772.\n",
      "[I 2025-08-01 10:57:11,486] Trial 32 finished with value: 0.209697627786312 and parameters: {'n_neighbors': 18, 'weights': 'uniform', 'p': 1}. Best is trial 15 with value: 0.20880640583474772.\n",
      "[I 2025-08-01 10:57:15,055] Trial 33 finished with value: 0.20902148750451036 and parameters: {'n_neighbors': 22, 'weights': 'uniform', 'p': 1}. Best is trial 15 with value: 0.20880640583474772.\n",
      "[I 2025-08-01 10:57:17,629] Trial 34 finished with value: 0.2104573968974644 and parameters: {'n_neighbors': 19, 'weights': 'distance', 'p': 1}. Best is trial 15 with value: 0.20880640583474772.\n",
      "[I 2025-08-01 10:57:22,485] Trial 35 finished with value: 0.2087793194040366 and parameters: {'n_neighbors': 24, 'weights': 'uniform', 'p': 1}. Best is trial 35 with value: 0.2087793194040366.\n",
      "[I 2025-08-01 10:57:30,814] Trial 36 finished with value: 0.20974531265528093 and parameters: {'n_neighbors': 25, 'weights': 'distance', 'p': 1}. Best is trial 35 with value: 0.2087793194040366.\n",
      "[I 2025-08-01 10:57:38,359] Trial 37 finished with value: 0.20949970919868416 and parameters: {'n_neighbors': 24, 'weights': 'uniform', 'p': 3}. Best is trial 35 with value: 0.2087793194040366.\n",
      "[I 2025-08-01 10:57:39,840] Trial 38 finished with value: 0.2200230467177599 and parameters: {'n_neighbors': 7, 'weights': 'distance', 'p': 1}. Best is trial 35 with value: 0.2087793194040366.\n",
      "[I 2025-08-01 10:57:41,341] Trial 39 finished with value: 0.20940236845929272 and parameters: {'n_neighbors': 23, 'weights': 'uniform', 'p': 2}. Best is trial 35 with value: 0.2087793194040366.\n",
      "[I 2025-08-01 10:57:43,224] Trial 40 finished with value: 0.2087793194040366 and parameters: {'n_neighbors': 24, 'weights': 'uniform', 'p': 1}. Best is trial 35 with value: 0.2087793194040366.\n",
      "[I 2025-08-01 10:57:44,181] Trial 41 finished with value: 0.2087793194040366 and parameters: {'n_neighbors': 24, 'weights': 'uniform', 'p': 1}. Best is trial 35 with value: 0.2087793194040366.\n",
      "[I 2025-08-01 10:57:45,043] Trial 42 finished with value: 0.2087793194040366 and parameters: {'n_neighbors': 24, 'weights': 'uniform', 'p': 1}. Best is trial 35 with value: 0.2087793194040366.\n",
      "[I 2025-08-01 10:57:45,859] Trial 43 finished with value: 0.2087793194040366 and parameters: {'n_neighbors': 24, 'weights': 'uniform', 'p': 1}. Best is trial 35 with value: 0.2087793194040366.\n",
      "[I 2025-08-01 10:57:46,969] Trial 44 finished with value: 0.2087793194040366 and parameters: {'n_neighbors': 24, 'weights': 'uniform', 'p': 1}. Best is trial 35 with value: 0.2087793194040366.\n"
     ]
    },
    {
     "name": "stdout",
     "output_type": "stream",
     "text": [
      "\n",
      "\n",
      "Time taken to find the best combination of hyperparameters among the given ones:  90.2855 seconds\n",
      "\n",
      "\n",
      "The best combination of hyperparameters found was:  {'n_neighbors': 24, 'weights': 'uniform', 'p': 1}\n",
      "The best R2 found was:  0.2088\n"
     ]
    }
   ],
   "source": [
    "confidence_level = 0.95\n",
    "folds = 10\n",
    "\n",
    "start_time = time.time()\n",
    "study = optuna.create_study(direction=\"minimize\") # We want to have the maximum values for the R2 scores\n",
    "study.optimize(lambda trial: tuneFunc.objective(trial, confidence_level, folds, X_train=X_train_trans, y_train=y_train), n_trials=45)#  objective(trial, confidence_level, folds), n_trials=45)\n",
    "end_time = time.time()\n",
    "\n",
    "print(\"\\n\")\n",
    "print(f\"Time taken to find the best combination of hyperparameters among the given ones: {end_time - start_time: .4f} seconds\")\n",
    "print(\"\\n\")\n",
    "print(\"The best combination of hyperparameters found was: \", study.best_params)\n",
    "print(f\"The best R2 found was: {study.best_value: .4f}\")"
   ]
  },
  {
   "cell_type": "code",
   "execution_count": 90,
   "metadata": {},
   "outputs": [
    {
     "name": "stdout",
     "output_type": "stream",
     "text": [
      "The R2 confidence interval for the best combination of hyper parameters is: (np.float64(0.2372), np.float64(0.2471), np.float64(0.257))\n"
     ]
    }
   ],
   "source": [
    "results = sorted([(index,\n",
    "  trial.user_attrs['CV_score_summary'][0],\n",
    "  trial.user_attrs['CV_score_summary'][1],\n",
    "  trial.user_attrs['CV_score_summary'][2]) for index, trial in enumerate(study.trials)], key=lambda x: x[2], reverse=True)\n",
    "\n",
    "print(f\"The R2 confidence interval for the best combination of hyper parameters is: {results[0][1:]}\")"
   ]
  },
  {
   "cell_type": "code",
   "execution_count": 91,
   "metadata": {},
   "outputs": [
    {
     "ename": "ValueError",
     "evalue": "The feature names should match those that were passed during fit.\nFeature names unseen at fit time:\n- Residence_type_Rural\n- Residence_type_Urban\n- ever_married_No\n- ever_married_Yes\n- gender_Female\n- ...\n",
     "output_type": "error",
     "traceback": [
      "\u001b[31m---------------------------------------------------------------------------\u001b[39m",
      "\u001b[31mValueError\u001b[39m                                Traceback (most recent call last)",
      "\u001b[36mCell\u001b[39m\u001b[36m \u001b[39m\u001b[32mIn[91]\u001b[39m\u001b[32m, line 5\u001b[39m\n\u001b[32m      2\u001b[39m best_model = KNeighborsClassifier(**study.best_params)\n\u001b[32m      3\u001b[39m best_model.fit(X_train_trans, y_train)\n\u001b[32m----> \u001b[39m\u001b[32m5\u001b[39m y_test_knn_pred = knn.predict(X_test_trans)\n\u001b[32m      7\u001b[39m accuracy_test_knn = knn.score(X_test_trans, y_test)\n\u001b[32m      8\u001b[39m \u001b[38;5;28mprint\u001b[39m(classification_report(y_pred = y_test_knn_pred, y_true = y_test))\n",
      "\u001b[36mFile \u001b[39m\u001b[32mc:\\Users\\Gast\\.conda\\envs\\dev-python-312\\Lib\\site-packages\\sklearn\\neighbors\\_classification.py:274\u001b[39m, in \u001b[36mKNeighborsClassifier.predict\u001b[39m\u001b[34m(self, X)\u001b[39m\n\u001b[32m    271\u001b[39m         \u001b[38;5;28;01mreturn\u001b[39;00m \u001b[38;5;28mself\u001b[39m.classes_[np.argmax(probabilities, axis=\u001b[32m1\u001b[39m)]\n\u001b[32m    272\u001b[39m     \u001b[38;5;66;03m# In that case, we do not need the distances to perform\u001b[39;00m\n\u001b[32m    273\u001b[39m     \u001b[38;5;66;03m# the weighting so we do not compute them.\u001b[39;00m\n\u001b[32m--> \u001b[39m\u001b[32m274\u001b[39m     neigh_ind = \u001b[38;5;28mself\u001b[39m.kneighbors(X, return_distance=\u001b[38;5;28;01mFalse\u001b[39;00m)\n\u001b[32m    275\u001b[39m     neigh_dist = \u001b[38;5;28;01mNone\u001b[39;00m\n\u001b[32m    276\u001b[39m \u001b[38;5;28;01melse\u001b[39;00m:\n",
      "\u001b[36mFile \u001b[39m\u001b[32mc:\\Users\\Gast\\.conda\\envs\\dev-python-312\\Lib\\site-packages\\sklearn\\neighbors\\_base.py:838\u001b[39m, in \u001b[36mKNeighborsMixin.kneighbors\u001b[39m\u001b[34m(self, X, n_neighbors, return_distance)\u001b[39m\n\u001b[32m    836\u001b[39m         X = _check_precomputed(X)\n\u001b[32m    837\u001b[39m     \u001b[38;5;28;01melse\u001b[39;00m:\n\u001b[32m--> \u001b[39m\u001b[32m838\u001b[39m         X = validate_data(\n\u001b[32m    839\u001b[39m             \u001b[38;5;28mself\u001b[39m,\n\u001b[32m    840\u001b[39m             X,\n\u001b[32m    841\u001b[39m             ensure_all_finite=ensure_all_finite,\n\u001b[32m    842\u001b[39m             accept_sparse=\u001b[33m\"\u001b[39m\u001b[33mcsr\u001b[39m\u001b[33m\"\u001b[39m,\n\u001b[32m    843\u001b[39m             reset=\u001b[38;5;28;01mFalse\u001b[39;00m,\n\u001b[32m    844\u001b[39m             order=\u001b[33m\"\u001b[39m\u001b[33mC\u001b[39m\u001b[33m\"\u001b[39m,\n\u001b[32m    845\u001b[39m         )\n\u001b[32m    847\u001b[39m n_samples_fit = \u001b[38;5;28mself\u001b[39m.n_samples_fit_\n\u001b[32m    848\u001b[39m \u001b[38;5;28;01mif\u001b[39;00m n_neighbors > n_samples_fit:\n",
      "\u001b[36mFile \u001b[39m\u001b[32mc:\\Users\\Gast\\.conda\\envs\\dev-python-312\\Lib\\site-packages\\sklearn\\utils\\validation.py:2919\u001b[39m, in \u001b[36mvalidate_data\u001b[39m\u001b[34m(_estimator, X, y, reset, validate_separately, skip_check_array, **check_params)\u001b[39m\n\u001b[32m   2835\u001b[39m \u001b[38;5;28;01mdef\u001b[39;00m\u001b[38;5;250m \u001b[39m\u001b[34mvalidate_data\u001b[39m(\n\u001b[32m   2836\u001b[39m     _estimator,\n\u001b[32m   2837\u001b[39m     /,\n\u001b[32m   (...)\u001b[39m\u001b[32m   2843\u001b[39m     **check_params,\n\u001b[32m   2844\u001b[39m ):\n\u001b[32m   2845\u001b[39m \u001b[38;5;250m    \u001b[39m\u001b[33;03m\"\"\"Validate input data and set or check feature names and counts of the input.\u001b[39;00m\n\u001b[32m   2846\u001b[39m \n\u001b[32m   2847\u001b[39m \u001b[33;03m    This helper function should be used in an estimator that requires input\u001b[39;00m\n\u001b[32m   (...)\u001b[39m\u001b[32m   2917\u001b[39m \u001b[33;03m        validated.\u001b[39;00m\n\u001b[32m   2918\u001b[39m \u001b[33;03m    \"\"\"\u001b[39;00m\n\u001b[32m-> \u001b[39m\u001b[32m2919\u001b[39m     _check_feature_names(_estimator, X, reset=reset)\n\u001b[32m   2920\u001b[39m     tags = get_tags(_estimator)\n\u001b[32m   2921\u001b[39m     \u001b[38;5;28;01mif\u001b[39;00m y \u001b[38;5;129;01mis\u001b[39;00m \u001b[38;5;28;01mNone\u001b[39;00m \u001b[38;5;129;01mand\u001b[39;00m tags.target_tags.required:\n",
      "\u001b[36mFile \u001b[39m\u001b[32mc:\\Users\\Gast\\.conda\\envs\\dev-python-312\\Lib\\site-packages\\sklearn\\utils\\validation.py:2777\u001b[39m, in \u001b[36m_check_feature_names\u001b[39m\u001b[34m(estimator, X, reset)\u001b[39m\n\u001b[32m   2774\u001b[39m \u001b[38;5;28;01mif\u001b[39;00m \u001b[38;5;129;01mnot\u001b[39;00m missing_names \u001b[38;5;129;01mand\u001b[39;00m \u001b[38;5;129;01mnot\u001b[39;00m unexpected_names:\n\u001b[32m   2775\u001b[39m     message += \u001b[33m\"\u001b[39m\u001b[33mFeature names must be in the same order as they were in fit.\u001b[39m\u001b[38;5;130;01m\\n\u001b[39;00m\u001b[33m\"\u001b[39m\n\u001b[32m-> \u001b[39m\u001b[32m2777\u001b[39m \u001b[38;5;28;01mraise\u001b[39;00m \u001b[38;5;167;01mValueError\u001b[39;00m(message)\n",
      "\u001b[31mValueError\u001b[39m: The feature names should match those that were passed during fit.\nFeature names unseen at fit time:\n- Residence_type_Rural\n- Residence_type_Urban\n- ever_married_No\n- ever_married_Yes\n- gender_Female\n- ...\n"
     ]
    }
   ],
   "source": [
    "#Classification\n",
    "best_model = KNeighborsClassifier(**study.best_params)\n",
    "best_model.fit(X_train_trans, y_train)\n",
    "\n",
    "y_test_knn_pred = knn.predict(X_test_trans)\n",
    "\n",
    "accuracy_test_knn = knn.score(X_test_trans, y_test)\n",
    "print(classification_report(y_pred = y_test_knn_pred, y_true = y_test))\n",
    "\n",
    "# # Only of Regression\n",
    "# best_model = KNeighborsRegressor(**study.best_params)\n",
    "# y_pred_test_df = best_model.predict(X_test_num_norm)\n",
    "# print(f\"Test MAE: {mean_absolute_error(y_pred_test_df, y_test): .3f}\")\n",
    "# print(f\"Test MSE: {mean_squared_error(y_pred_test_df, y_test): .3f}\")\n",
    "# print(f\"Test RMSE: {root_mean_squared_error(y_pred_test_df, y_test): .3f}\")\n",
    "# print(f\"Test R2 score:  {best_model.score(X_test_num_norm, y_test): .3f}\")"
   ]
  },
  {
   "cell_type": "markdown",
   "metadata": {},
   "source": []
  },
  {
   "cell_type": "markdown",
   "metadata": {},
   "source": [
    "## Oversampling"
   ]
  },
  {
   "cell_type": "code",
   "execution_count": 78,
   "metadata": {},
   "outputs": [],
   "source": [
    "train = pd.DataFrame(X_train_num_trans, columns=X_train_num.columns, index=X_train_num.index)\n",
    "train[\"stroke\"] = y_train.values"
   ]
  },
  {
   "cell_type": "code",
   "execution_count": 79,
   "metadata": {},
   "outputs": [],
   "source": [
    "stroked = train[train[\"stroke\"] == 1]\n",
    "no_stroked = train[train[\"stroke\"] == 0]"
   ]
  },
  {
   "cell_type": "code",
   "execution_count": 80,
   "metadata": {},
   "outputs": [
    {
     "data": {
      "text/plain": [
       "(195, 3892)"
      ]
     },
     "execution_count": 80,
     "metadata": {},
     "output_type": "execute_result"
    }
   ],
   "source": [
    "len(stroked),len(no_stroked)"
   ]
  },
  {
   "cell_type": "code",
   "execution_count": 81,
   "metadata": {},
   "outputs": [],
   "source": [
    "yes_oversampled = resample(stroked,\n",
    "                                    replace=True,\n",
    "                                    n_samples = len(no_stroked),\n",
    "                                    random_state=0)"
   ]
  },
  {
   "cell_type": "code",
   "execution_count": 35,
   "metadata": {},
   "outputs": [
    {
     "data": {
      "application/vnd.microsoft.datawrangler.viewer.v0+json": {
       "columns": [
        {
         "name": "index",
         "rawType": "int64",
         "type": "integer"
        },
        {
         "name": "age",
         "rawType": "float64",
         "type": "float"
        },
        {
         "name": "hypertension",
         "rawType": "float64",
         "type": "float"
        },
        {
         "name": "heart_disease",
         "rawType": "float64",
         "type": "float"
        },
        {
         "name": "work_type",
         "rawType": "float64",
         "type": "float"
        },
        {
         "name": "avg_glucose_level",
         "rawType": "float64",
         "type": "float"
        },
        {
         "name": "bmi",
         "rawType": "float64",
         "type": "float"
        },
        {
         "name": "smoking_status",
         "rawType": "float64",
         "type": "float"
        },
        {
         "name": "stroke",
         "rawType": "int64",
         "type": "integer"
        }
       ],
       "ref": "4520de85-40ae-40ff-b486-76f860705219",
       "rows": [
        [
         "93",
         "0.9755859375",
         "1.0",
         "0.0",
         "0.75",
         "0.06204413258240238",
         "0.18213058419243988",
         "0.6666666666666666",
         "1"
        ],
        [
         "200",
         "0.90234375",
         "0.0",
         "0.0",
         "1.0",
         "0.5170806019758102",
         "0.21298094973418863",
         "0.6666666666666666",
         "1"
        ],
        [
         "102",
         "0.90234375",
         "0.0",
         "0.0",
         "1.0",
         "0.8147447142461454",
         "0.27835051546391754",
         "0.3333333333333333",
         "1"
        ],
        [
         "201",
         "0.9755859375",
         "1.0",
         "1.0",
         "1.0",
         "0.5547502539008401",
         "0.24284077892325318",
         "0.3333333333333333",
         "1"
        ],
        [
         "40",
         "0.951171875",
         "0.0",
         "0.0",
         "1.0",
         "0.10576124088265165",
         "0.15578465063001146",
         "0.3333333333333333",
         "1"
        ],
        [
         "233",
         "0.93896484375",
         "1.0",
         "0.0",
         "0.75",
         "0.668082356199797",
         "0.2027491408934708",
         "0.3333333333333333",
         "1"
        ],
        [
         "23",
         "1.0",
         "0.0",
         "1.0",
         "1.0",
         "0.7071369217985413",
         "0.2542955326460481",
         "0.6666666666666666",
         "1"
        ],
        [
         "206",
         "0.98779296875",
         "0.0",
         "0.0",
         "1.0",
         "0.11545563659865199",
         "0.15005727376861394",
         "0.0",
         "1"
        ],
        [
         "234",
         "0.951171875",
         "0.0",
         "0.0",
         "0.75",
         "0.7540393315483335",
         "0.18900343642611683",
         "0.6666666666666666",
         "1"
        ],
        [
         "90",
         "0.96337890625",
         "0.0",
         "1.0",
         "1.0",
         "0.7933708798818208",
         "0.2233676975945017",
         "0.0",
         "1"
        ],
        [
         "82",
         "0.96337890625",
         "0.0",
         "0.0",
         "1.0",
         "0.15603360723848214",
         "0.14432989690721648",
         "0.0",
         "1"
        ],
        [
         "84",
         "0.70703125",
         "0.0",
         "0.0",
         "1.0",
         "0.07423137291108856",
         "0.21298094973418863",
         "0.6666666666666666",
         "1"
        ],
        [
         "56",
         "1.0",
         "0.0",
         "0.0",
         "1.0",
         "0.019388791432000785",
         "0.2623138602520046",
         "0.0",
         "1"
        ],
        [
         "240",
         "0.8046875",
         "0.0",
         "0.0",
         "1.0",
         "0.09851352599021329",
         "0.12485681557846508",
         "0.3333333333333333",
         "1"
        ],
        [
         "151",
         "0.8291015625",
         "0.0",
         "1.0",
         "1.0",
         "0.7788292863078202",
         "0.24742268041237114",
         "0.3333333333333333",
         "1"
        ],
        [
         "3",
         "0.59716796875",
         "0.0",
         "0.0",
         "1.0",
         "0.5360077555165728",
         "0.27605956471935855",
         "1.0",
         "1"
        ],
        [
         "90",
         "0.96337890625",
         "0.0",
         "1.0",
         "1.0",
         "0.7933708798818208",
         "0.2233676975945017",
         "0.0",
         "1"
        ],
        [
         "63",
         "0.54833984375",
         "0.0",
         "0.0",
         "1.0",
         "0.17819222601791157",
         "0.22794959908361973",
         "0.3333333333333333",
         "1"
        ],
        [
         "84",
         "0.70703125",
         "0.0",
         "0.0",
         "1.0",
         "0.07423137291108856",
         "0.21298094973418863",
         "0.6666666666666666",
         "1"
        ],
        [
         "41",
         "0.658203125",
         "0.0",
         "0.0",
         "1.0",
         "0.07432370048933618",
         "0.20847651775486825",
         "0.0",
         "1"
        ],
        [
         "28",
         "0.84130859375",
         "0.0",
         "1.0",
         "0.75",
         "0.6468008494137198",
         "0.20618556701030927",
         "1.0",
         "1"
        ],
        [
         "196",
         "0.853515625",
         "1.0",
         "0.0",
         "1.0",
         "0.8651094081802234",
         "0.4032073310423826",
         "0.3333333333333333",
         "1"
        ],
        [
         "27",
         "0.70703125",
         "0.0",
         "0.0",
         "1.0",
         "0.6219185670759856",
         "0.21298094973418863",
         "0.6666666666666666",
         "1"
        ],
        [
         "232",
         "0.89013671875",
         "0.0",
         "0.0",
         "0.75",
         "0.07303111439386945",
         "0.27605956471935855",
         "0.0",
         "1"
        ],
        [
         "23",
         "1.0",
         "0.0",
         "1.0",
         "1.0",
         "0.7071369217985413",
         "0.2542955326460481",
         "0.6666666666666666",
         "1"
        ],
        [
         "83",
         "0.8291015625",
         "1.0",
         "0.0",
         "0.75",
         "0.11388606776844246",
         "0.2222222222222222",
         "0.0",
         "1"
        ],
        [
         "140",
         "1.0",
         "0.0",
         "1.0",
         "0.5",
         "0.22417135998522764",
         "0.16838487972508592",
         "0.0",
         "1"
        ],
        [
         "48",
         "0.98779296875",
         "0.0",
         "0.0",
         "0.75",
         "0.2040901117163697",
         "0.2680412371134021",
         "0.0",
         "1"
        ],
        [
         "112",
         "0.9267578125",
         "0.0",
         "0.0",
         "0.75",
         "0.23677407441602805",
         "0.21298094973418863",
         "0.3333333333333333",
         "1"
        ],
        [
         "201",
         "0.9755859375",
         "1.0",
         "1.0",
         "1.0",
         "0.5547502539008401",
         "0.24284077892325318",
         "0.3333333333333333",
         "1"
        ],
        [
         "187",
         "1.0",
         "1.0",
         "1.0",
         "0.5",
         "0.7424060566891331",
         "0.2016036655211913",
         "0.3333333333333333",
         "1"
        ],
        [
         "128",
         "1.0",
         "0.0",
         "0.0",
         "0.5",
         "0.6715446403840828",
         "0.21420389461626577",
         "0.3333333333333333",
         "1"
        ],
        [
         "153",
         "0.8291015625",
         "0.0",
         "0.0",
         "0.75",
         "0.10479180131105159",
         "0.19702176403207333",
         "1.0",
         "1"
        ],
        [
         "114",
         "0.8291015625",
         "0.0",
         "0.0",
         "0.5",
         "0.12454990305604285",
         "0.19243986254295536",
         "0.6666666666666666",
         "1"
        ],
        [
         "78",
         "0.62158203125",
         "0.0",
         "0.0",
         "1.0",
         "0.5086787923552766",
         "0.21298094973418863",
         "0.0",
         "1"
        ],
        [
         "78",
         "0.62158203125",
         "0.0",
         "0.0",
         "1.0",
         "0.5086787923552766",
         "0.21298094973418863",
         "0.0",
         "1"
        ],
        [
         "35",
         "1.0",
         "1.0",
         "1.0",
         "1.0",
         "0.13345951435693842",
         "0.18556701030927836",
         "0.3333333333333333",
         "1"
        ],
        [
         "115",
         "0.86572265625",
         "1.0",
         "1.0",
         "0.5",
         "0.7470224356015142",
         "0.23596792668957617",
         "0.0",
         "1"
        ],
        [
         "229",
         "0.9755859375",
         "1.0",
         "0.0",
         "1.0",
         "0.05036469393407811",
         "0.28751431844215347",
         "0.0",
         "1"
        ],
        [
         "151",
         "0.8291015625",
         "0.0",
         "1.0",
         "1.0",
         "0.7788292863078202",
         "0.24742268041237114",
         "0.3333333333333333",
         "1"
        ],
        [
         "23",
         "1.0",
         "0.0",
         "1.0",
         "1.0",
         "0.7071369217985413",
         "0.2542955326460481",
         "0.6666666666666666",
         "1"
        ],
        [
         "199",
         "0.90234375",
         "0.0",
         "0.0",
         "0.75",
         "0.0915889576216416",
         "0.18671248568155785",
         "0.0",
         "1"
        ],
        [
         "171",
         "0.96337890625",
         "1.0",
         "1.0",
         "0.75",
         "0.026867325270058195",
         "0.21298094973418863",
         "0.0",
         "1"
        ],
        [
         "229",
         "0.9755859375",
         "1.0",
         "0.0",
         "1.0",
         "0.05036469393407811",
         "0.28751431844215347",
         "0.0",
         "1"
        ],
        [
         "17",
         "0.91455078125",
         "1.0",
         "0.0",
         "1.0",
         "0.7671036838703721",
         "0.17754868270332186",
         "1.0",
         "1"
        ],
        [
         "131",
         "0.951171875",
         "1.0",
         "0.0",
         "1.0",
         "0.34816729757178466",
         "0.11225658648339064",
         "0.0",
         "1"
        ],
        [
         "181",
         "0.71923828125",
         "0.0",
         "0.0",
         "1.0",
         "0.25814790878035276",
         "0.24856815578465064",
         "0.3333333333333333",
         "1"
        ],
        [
         "55",
         "0.76806640625",
         "0.0",
         "1.0",
         "1.0",
         "0.653633090204044",
         "0.30011454753722794",
         "0.3333333333333333",
         "1"
        ],
        [
         "136",
         "0.9267578125",
         "0.0",
         "0.0",
         "1.0",
         "0.3922998799741483",
         "0.2245131729667812",
         "0.3333333333333333",
         "1"
        ],
        [
         "149",
         "0.853515625",
         "0.0",
         "1.0",
         "1.0",
         "0.8491829009325086",
         "0.1809851088201604",
         "0.0",
         "1"
        ]
       ],
       "shape": {
        "columns": 8,
        "rows": 7784
       }
      },
      "text/html": [
       "<div>\n",
       "<style scoped>\n",
       "    .dataframe tbody tr th:only-of-type {\n",
       "        vertical-align: middle;\n",
       "    }\n",
       "\n",
       "    .dataframe tbody tr th {\n",
       "        vertical-align: top;\n",
       "    }\n",
       "\n",
       "    .dataframe thead th {\n",
       "        text-align: right;\n",
       "    }\n",
       "</style>\n",
       "<table border=\"1\" class=\"dataframe\">\n",
       "  <thead>\n",
       "    <tr style=\"text-align: right;\">\n",
       "      <th></th>\n",
       "      <th>age</th>\n",
       "      <th>hypertension</th>\n",
       "      <th>heart_disease</th>\n",
       "      <th>work_type</th>\n",
       "      <th>avg_glucose_level</th>\n",
       "      <th>bmi</th>\n",
       "      <th>smoking_status</th>\n",
       "      <th>stroke</th>\n",
       "    </tr>\n",
       "  </thead>\n",
       "  <tbody>\n",
       "    <tr>\n",
       "      <th>93</th>\n",
       "      <td>0.975586</td>\n",
       "      <td>1.0</td>\n",
       "      <td>0.0</td>\n",
       "      <td>0.75</td>\n",
       "      <td>0.062044</td>\n",
       "      <td>0.182131</td>\n",
       "      <td>0.666667</td>\n",
       "      <td>1</td>\n",
       "    </tr>\n",
       "    <tr>\n",
       "      <th>200</th>\n",
       "      <td>0.902344</td>\n",
       "      <td>0.0</td>\n",
       "      <td>0.0</td>\n",
       "      <td>1.00</td>\n",
       "      <td>0.517081</td>\n",
       "      <td>0.212981</td>\n",
       "      <td>0.666667</td>\n",
       "      <td>1</td>\n",
       "    </tr>\n",
       "    <tr>\n",
       "      <th>102</th>\n",
       "      <td>0.902344</td>\n",
       "      <td>0.0</td>\n",
       "      <td>0.0</td>\n",
       "      <td>1.00</td>\n",
       "      <td>0.814745</td>\n",
       "      <td>0.278351</td>\n",
       "      <td>0.333333</td>\n",
       "      <td>1</td>\n",
       "    </tr>\n",
       "    <tr>\n",
       "      <th>201</th>\n",
       "      <td>0.975586</td>\n",
       "      <td>1.0</td>\n",
       "      <td>1.0</td>\n",
       "      <td>1.00</td>\n",
       "      <td>0.554750</td>\n",
       "      <td>0.242841</td>\n",
       "      <td>0.333333</td>\n",
       "      <td>1</td>\n",
       "    </tr>\n",
       "    <tr>\n",
       "      <th>40</th>\n",
       "      <td>0.951172</td>\n",
       "      <td>0.0</td>\n",
       "      <td>0.0</td>\n",
       "      <td>1.00</td>\n",
       "      <td>0.105761</td>\n",
       "      <td>0.155785</td>\n",
       "      <td>0.333333</td>\n",
       "      <td>1</td>\n",
       "    </tr>\n",
       "    <tr>\n",
       "      <th>...</th>\n",
       "      <td>...</td>\n",
       "      <td>...</td>\n",
       "      <td>...</td>\n",
       "      <td>...</td>\n",
       "      <td>...</td>\n",
       "      <td>...</td>\n",
       "      <td>...</td>\n",
       "      <td>...</td>\n",
       "    </tr>\n",
       "    <tr>\n",
       "      <th>4932</th>\n",
       "      <td>0.340820</td>\n",
       "      <td>1.0</td>\n",
       "      <td>0.0</td>\n",
       "      <td>1.00</td>\n",
       "      <td>0.145370</td>\n",
       "      <td>0.324170</td>\n",
       "      <td>1.000000</td>\n",
       "      <td>0</td>\n",
       "    </tr>\n",
       "    <tr>\n",
       "      <th>3265</th>\n",
       "      <td>0.743652</td>\n",
       "      <td>0.0</td>\n",
       "      <td>0.0</td>\n",
       "      <td>0.75</td>\n",
       "      <td>0.123904</td>\n",
       "      <td>0.224513</td>\n",
       "      <td>0.000000</td>\n",
       "      <td>0</td>\n",
       "    </tr>\n",
       "    <tr>\n",
       "      <th>1653</th>\n",
       "      <td>0.536133</td>\n",
       "      <td>0.0</td>\n",
       "      <td>0.0</td>\n",
       "      <td>1.00</td>\n",
       "      <td>0.182762</td>\n",
       "      <td>0.207331</td>\n",
       "      <td>1.000000</td>\n",
       "      <td>0</td>\n",
       "    </tr>\n",
       "    <tr>\n",
       "      <th>2607</th>\n",
       "      <td>0.255371</td>\n",
       "      <td>0.0</td>\n",
       "      <td>0.0</td>\n",
       "      <td>1.00</td>\n",
       "      <td>0.303850</td>\n",
       "      <td>0.222222</td>\n",
       "      <td>0.333333</td>\n",
       "      <td>0</td>\n",
       "    </tr>\n",
       "    <tr>\n",
       "      <th>2732</th>\n",
       "      <td>0.707031</td>\n",
       "      <td>1.0</td>\n",
       "      <td>0.0</td>\n",
       "      <td>0.50</td>\n",
       "      <td>0.020312</td>\n",
       "      <td>0.262314</td>\n",
       "      <td>0.000000</td>\n",
       "      <td>0</td>\n",
       "    </tr>\n",
       "  </tbody>\n",
       "</table>\n",
       "<p>7784 rows × 8 columns</p>\n",
       "</div>"
      ],
      "text/plain": [
       "           age  hypertension  heart_disease  work_type  avg_glucose_level  \\\n",
       "93    0.975586           1.0            0.0       0.75           0.062044   \n",
       "200   0.902344           0.0            0.0       1.00           0.517081   \n",
       "102   0.902344           0.0            0.0       1.00           0.814745   \n",
       "201   0.975586           1.0            1.0       1.00           0.554750   \n",
       "40    0.951172           0.0            0.0       1.00           0.105761   \n",
       "...        ...           ...            ...        ...                ...   \n",
       "4932  0.340820           1.0            0.0       1.00           0.145370   \n",
       "3265  0.743652           0.0            0.0       0.75           0.123904   \n",
       "1653  0.536133           0.0            0.0       1.00           0.182762   \n",
       "2607  0.255371           0.0            0.0       1.00           0.303850   \n",
       "2732  0.707031           1.0            0.0       0.50           0.020312   \n",
       "\n",
       "           bmi  smoking_status  stroke  \n",
       "93    0.182131        0.666667       1  \n",
       "200   0.212981        0.666667       1  \n",
       "102   0.278351        0.333333       1  \n",
       "201   0.242841        0.333333       1  \n",
       "40    0.155785        0.333333       1  \n",
       "...        ...             ...     ...  \n",
       "4932  0.324170        1.000000       0  \n",
       "3265  0.224513        0.000000       0  \n",
       "1653  0.207331        1.000000       0  \n",
       "2607  0.222222        0.333333       0  \n",
       "2732  0.262314        0.000000       0  \n",
       "\n",
       "[7784 rows x 8 columns]"
      ]
     },
     "execution_count": 35,
     "metadata": {},
     "output_type": "execute_result"
    }
   ],
   "source": [
    "train_over = pd.concat([yes_oversampled, no_stroked])\n",
    "train_over"
   ]
  },
  {
   "cell_type": "code",
   "execution_count": 82,
   "metadata": {},
   "outputs": [
    {
     "data": {
      "image/png": "[encoded data removed]",
      "text/plain": [
       "<Figure size 640x480 with 1 Axes>"
      ]
     },
     "metadata": {},
     "output_type": "display_data"
    }
   ],
   "source": [
    "stroked_plt = train_over[\"stroke\"].value_counts()\n",
    "stroked_plt.plot(kind=\"bar\")\n",
    "plt.show()"
   ]
  },
  {
   "cell_type": "markdown",
   "metadata": {},
   "source": [
    "#### Now, with balanced data, we will create a new instance of KNN\n"
   ]
  },
  {
   "cell_type": "code",
   "execution_count": 83,
   "metadata": {},
   "outputs": [],
   "source": [
    "X_train_over = train_over.drop(columns = [\"stroke\"])\n",
    "y_train_over = train_over[\"stroke\"]"
   ]
  },
  {
   "cell_type": "code",
   "execution_count": 86,
   "metadata": {},
   "outputs": [
    {
     "ename": "ValueError",
     "evalue": "The feature names should match those that were passed during fit.\nFeature names unseen at fit time:\n- Residence_type_Rural\n- Residence_type_Urban\n- ever_married_No\n- ever_married_Yes\n- gender_Female\n- ...\n",
     "output_type": "error",
     "traceback": [
      "\u001b[31m---------------------------------------------------------------------------\u001b[39m",
      "\u001b[31mValueError\u001b[39m                                Traceback (most recent call last)",
      "\u001b[36mCell\u001b[39m\u001b[36m \u001b[39m\u001b[32mIn[86]\u001b[39m\u001b[32m, line 7\u001b[39m\n\u001b[32m      2\u001b[39m knn.fit(X_train_over, y_train_over)\n\u001b[32m      4\u001b[39m \u001b[38;5;66;03m# y_train_knn_pred = knn.predict(X_train_over)\u001b[39;00m\n\u001b[32m      5\u001b[39m \u001b[38;5;66;03m# accuracy_train_knn = knn.score(X_train_over, y_train_over)\u001b[39;00m\n\u001b[32m----> \u001b[39m\u001b[32m7\u001b[39m y_test_knn_pred = knn.predict(X_test_trans)\n\u001b[32m      9\u001b[39m accuracy_test_knn = knn.score(X_test_trans, y_test)\n\u001b[32m     10\u001b[39m \u001b[38;5;28mprint\u001b[39m(classification_report(y_pred = y_test_knn_pred, y_true = y_test))\n",
      "\u001b[36mFile \u001b[39m\u001b[32mc:\\Users\\Gast\\.conda\\envs\\dev-python-312\\Lib\\site-packages\\sklearn\\neighbors\\_classification.py:274\u001b[39m, in \u001b[36mKNeighborsClassifier.predict\u001b[39m\u001b[34m(self, X)\u001b[39m\n\u001b[32m    271\u001b[39m         \u001b[38;5;28;01mreturn\u001b[39;00m \u001b[38;5;28mself\u001b[39m.classes_[np.argmax(probabilities, axis=\u001b[32m1\u001b[39m)]\n\u001b[32m    272\u001b[39m     \u001b[38;5;66;03m# In that case, we do not need the distances to perform\u001b[39;00m\n\u001b[32m    273\u001b[39m     \u001b[38;5;66;03m# the weighting so we do not compute them.\u001b[39;00m\n\u001b[32m--> \u001b[39m\u001b[32m274\u001b[39m     neigh_ind = \u001b[38;5;28mself\u001b[39m.kneighbors(X, return_distance=\u001b[38;5;28;01mFalse\u001b[39;00m)\n\u001b[32m    275\u001b[39m     neigh_dist = \u001b[38;5;28;01mNone\u001b[39;00m\n\u001b[32m    276\u001b[39m \u001b[38;5;28;01melse\u001b[39;00m:\n",
      "\u001b[36mFile \u001b[39m\u001b[32mc:\\Users\\Gast\\.conda\\envs\\dev-python-312\\Lib\\site-packages\\sklearn\\neighbors\\_base.py:838\u001b[39m, in \u001b[36mKNeighborsMixin.kneighbors\u001b[39m\u001b[34m(self, X, n_neighbors, return_distance)\u001b[39m\n\u001b[32m    836\u001b[39m         X = _check_precomputed(X)\n\u001b[32m    837\u001b[39m     \u001b[38;5;28;01melse\u001b[39;00m:\n\u001b[32m--> \u001b[39m\u001b[32m838\u001b[39m         X = validate_data(\n\u001b[32m    839\u001b[39m             \u001b[38;5;28mself\u001b[39m,\n\u001b[32m    840\u001b[39m             X,\n\u001b[32m    841\u001b[39m             ensure_all_finite=ensure_all_finite,\n\u001b[32m    842\u001b[39m             accept_sparse=\u001b[33m\"\u001b[39m\u001b[33mcsr\u001b[39m\u001b[33m\"\u001b[39m,\n\u001b[32m    843\u001b[39m             reset=\u001b[38;5;28;01mFalse\u001b[39;00m,\n\u001b[32m    844\u001b[39m             order=\u001b[33m\"\u001b[39m\u001b[33mC\u001b[39m\u001b[33m\"\u001b[39m,\n\u001b[32m    845\u001b[39m         )\n\u001b[32m    847\u001b[39m n_samples_fit = \u001b[38;5;28mself\u001b[39m.n_samples_fit_\n\u001b[32m    848\u001b[39m \u001b[38;5;28;01mif\u001b[39;00m n_neighbors > n_samples_fit:\n",
      "\u001b[36mFile \u001b[39m\u001b[32mc:\\Users\\Gast\\.conda\\envs\\dev-python-312\\Lib\\site-packages\\sklearn\\utils\\validation.py:2919\u001b[39m, in \u001b[36mvalidate_data\u001b[39m\u001b[34m(_estimator, X, y, reset, validate_separately, skip_check_array, **check_params)\u001b[39m\n\u001b[32m   2835\u001b[39m \u001b[38;5;28;01mdef\u001b[39;00m\u001b[38;5;250m \u001b[39m\u001b[34mvalidate_data\u001b[39m(\n\u001b[32m   2836\u001b[39m     _estimator,\n\u001b[32m   2837\u001b[39m     /,\n\u001b[32m   (...)\u001b[39m\u001b[32m   2843\u001b[39m     **check_params,\n\u001b[32m   2844\u001b[39m ):\n\u001b[32m   2845\u001b[39m \u001b[38;5;250m    \u001b[39m\u001b[33;03m\"\"\"Validate input data and set or check feature names and counts of the input.\u001b[39;00m\n\u001b[32m   2846\u001b[39m \n\u001b[32m   2847\u001b[39m \u001b[33;03m    This helper function should be used in an estimator that requires input\u001b[39;00m\n\u001b[32m   (...)\u001b[39m\u001b[32m   2917\u001b[39m \u001b[33;03m        validated.\u001b[39;00m\n\u001b[32m   2918\u001b[39m \u001b[33;03m    \"\"\"\u001b[39;00m\n\u001b[32m-> \u001b[39m\u001b[32m2919\u001b[39m     _check_feature_names(_estimator, X, reset=reset)\n\u001b[32m   2920\u001b[39m     tags = get_tags(_estimator)\n\u001b[32m   2921\u001b[39m     \u001b[38;5;28;01mif\u001b[39;00m y \u001b[38;5;129;01mis\u001b[39;00m \u001b[38;5;28;01mNone\u001b[39;00m \u001b[38;5;129;01mand\u001b[39;00m tags.target_tags.required:\n",
      "\u001b[36mFile \u001b[39m\u001b[32mc:\\Users\\Gast\\.conda\\envs\\dev-python-312\\Lib\\site-packages\\sklearn\\utils\\validation.py:2777\u001b[39m, in \u001b[36m_check_feature_names\u001b[39m\u001b[34m(estimator, X, reset)\u001b[39m\n\u001b[32m   2774\u001b[39m \u001b[38;5;28;01mif\u001b[39;00m \u001b[38;5;129;01mnot\u001b[39;00m missing_names \u001b[38;5;129;01mand\u001b[39;00m \u001b[38;5;129;01mnot\u001b[39;00m unexpected_names:\n\u001b[32m   2775\u001b[39m     message += \u001b[33m\"\u001b[39m\u001b[33mFeature names must be in the same order as they were in fit.\u001b[39m\u001b[38;5;130;01m\\n\u001b[39;00m\u001b[33m\"\u001b[39m\n\u001b[32m-> \u001b[39m\u001b[32m2777\u001b[39m \u001b[38;5;28;01mraise\u001b[39;00m \u001b[38;5;167;01mValueError\u001b[39;00m(message)\n",
      "\u001b[31mValueError\u001b[39m: The feature names should match those that were passed during fit.\nFeature names unseen at fit time:\n- Residence_type_Rural\n- Residence_type_Urban\n- ever_married_No\n- ever_married_Yes\n- gender_Female\n- ...\n"
     ]
    }
   ],
   "source": [
    "knn = KNeighborsClassifier()\n",
    "knn.fit(X_train_over, y_train_over)\n",
    "\n",
    "# y_train_knn_pred = knn.predict(X_train_over)\n",
    "# accuracy_train_knn = knn.score(X_train_over, y_train_over)\n",
    "\n",
    "y_test_knn_pred = knn.predict(X_test_trans)\n",
    "\n",
    "accuracy_test_knn = knn.score(X_test_trans, y_test)\n",
    "print(classification_report(y_pred = y_test_knn_pred, y_true = y_test))"
   ]
  },
  {
   "cell_type": "code",
   "execution_count": 47,
   "metadata": {},
   "outputs": [
    {
     "name": "stdout",
     "output_type": "stream",
     "text": [
      "The accuracy of the model with Classification for balanced data is  0.86\n"
     ]
    }
   ],
   "source": [
    "# print(f\"The accuracy of the model with trained and balanced data is {accuracy_train_knn: .2f}\")\n",
    "print(f\"The accuracy of the model with Classification for balanced data is {accuracy_test_knn: .2f}\")"
   ]
  },
  {
   "cell_type": "markdown",
   "metadata": {},
   "source": [
    "### Hyperparam tuning after balanced"
   ]
  },
  {
   "cell_type": "code",
   "execution_count": 48,
   "metadata": {},
   "outputs": [
    {
     "name": "stderr",
     "output_type": "stream",
     "text": [
      "[I 2025-08-01 09:27:29,504] A new study created in memory with name: no-name-7b965bc9-7f1f-4859-9f5a-b02f28873d27\n",
      "[I 2025-08-01 09:27:30,388] Trial 0 finished with value: 0.23180454365017286 and parameters: {'n_neighbors': 11, 'weights': 'uniform', 'p': 2}. Best is trial 0 with value: 0.23180454365017286.\n",
      "[I 2025-08-01 09:27:30,960] Trial 1 finished with value: 0.25755983719190256 and parameters: {'n_neighbors': 13, 'weights': 'uniform', 'p': 2}. Best is trial 0 with value: 0.23180454365017286.\n",
      "[I 2025-08-01 09:27:34,119] Trial 2 finished with value: 0.2266585364411015 and parameters: {'n_neighbors': 22, 'weights': 'distance', 'p': 3}. Best is trial 2 with value: 0.2266585364411015.\n",
      "[I 2025-08-01 09:27:34,717] Trial 3 finished with value: 0.19155851254676487 and parameters: {'n_neighbors': 10, 'weights': 'distance', 'p': 1}. Best is trial 3 with value: 0.19155851254676487.\n",
      "[I 2025-08-01 09:27:38,530] Trial 4 finished with value: 0.3704227477610541 and parameters: {'n_neighbors': 25, 'weights': 'uniform', 'p': 3}. Best is trial 3 with value: 0.19155851254676487.\n",
      "[I 2025-08-01 09:27:39,235] Trial 5 finished with value: 0.1727904836193353 and parameters: {'n_neighbors': 7, 'weights': 'distance', 'p': 2}. Best is trial 5 with value: 0.1727904836193353.\n",
      "[I 2025-08-01 09:27:40,053] Trial 6 finished with value: 0.23180454365017286 and parameters: {'n_neighbors': 11, 'weights': 'uniform', 'p': 2}. Best is trial 5 with value: 0.1727904836193353.\n",
      "[I 2025-08-01 09:27:44,747] Trial 7 finished with value: 0.21662987655399518 and parameters: {'n_neighbors': 16, 'weights': 'distance', 'p': 3}. Best is trial 5 with value: 0.1727904836193353.\n",
      "[I 2025-08-01 09:27:45,901] Trial 8 finished with value: 0.15765068127675963 and parameters: {'n_neighbors': 5, 'weights': 'distance', 'p': 2}. Best is trial 8 with value: 0.15765068127675963.\n",
      "[I 2025-08-01 09:27:47,270] Trial 9 finished with value: 0.2060632476267558 and parameters: {'n_neighbors': 13, 'weights': 'distance', 'p': 1}. Best is trial 8 with value: 0.15765068127675963.\n",
      "[I 2025-08-01 09:27:48,054] Trial 10 finished with value: 0.12782595450318884 and parameters: {'n_neighbors': 2, 'weights': 'distance', 'p': 1}. Best is trial 10 with value: 0.12782595450318884.\n",
      "[I 2025-08-01 09:27:48,863] Trial 11 finished with value: 0.12782595450318884 and parameters: {'n_neighbors': 2, 'weights': 'distance', 'p': 1}. Best is trial 10 with value: 0.12782595450318884.\n",
      "[I 2025-08-01 09:27:49,644] Trial 12 finished with value: 0.12782595450318884 and parameters: {'n_neighbors': 2, 'weights': 'distance', 'p': 1}. Best is trial 10 with value: 0.12782595450318884.\n",
      "[I 2025-08-01 09:27:50,444] Trial 13 finished with value: 0.1387479373347485 and parameters: {'n_neighbors': 3, 'weights': 'distance', 'p': 1}. Best is trial 10 with value: 0.12782595450318884.\n",
      "[I 2025-08-01 09:27:51,334] Trial 14 finished with value: 0.17305465524576197 and parameters: {'n_neighbors': 7, 'weights': 'distance', 'p': 1}. Best is trial 10 with value: 0.12782595450318884.\n",
      "[I 2025-08-01 09:27:52,271] Trial 15 finished with value: 0.22179903984637414 and parameters: {'n_neighbors': 18, 'weights': 'distance', 'p': 1}. Best is trial 10 with value: 0.12782595450318884.\n",
      "[I 2025-08-01 09:27:53,076] Trial 16 finished with value: 0.15773849579856075 and parameters: {'n_neighbors': 5, 'weights': 'distance', 'p': 1}. Best is trial 10 with value: 0.12782595450318884.\n",
      "[I 2025-08-01 09:27:53,847] Trial 17 finished with value: 0.12782595450318884 and parameters: {'n_neighbors': 2, 'weights': 'distance', 'p': 1}. Best is trial 10 with value: 0.12782595450318884.\n",
      "[I 2025-08-01 09:27:54,715] Trial 18 finished with value: 0.18644898958657438 and parameters: {'n_neighbors': 7, 'weights': 'uniform', 'p': 1}. Best is trial 10 with value: 0.12782595450318884.\n",
      "[I 2025-08-01 09:27:56,080] Trial 19 finished with value: 0.15765068127675963 and parameters: {'n_neighbors': 5, 'weights': 'distance', 'p': 2}. Best is trial 10 with value: 0.12782595450318884.\n",
      "[I 2025-08-01 09:27:57,450] Trial 20 finished with value: 0.18558520336144735 and parameters: {'n_neighbors': 9, 'weights': 'distance', 'p': 2}. Best is trial 10 with value: 0.12782595450318884.\n",
      "[I 2025-08-01 09:27:58,542] Trial 21 finished with value: 0.12782595450318884 and parameters: {'n_neighbors': 2, 'weights': 'distance', 'p': 1}. Best is trial 10 with value: 0.12782595450318884.\n",
      "[I 2025-08-01 09:27:59,442] Trial 22 finished with value: 0.14877404660802912 and parameters: {'n_neighbors': 4, 'weights': 'distance', 'p': 1}. Best is trial 10 with value: 0.12782595450318884.\n",
      "[I 2025-08-01 09:28:00,366] Trial 23 finished with value: 0.12782595450318884 and parameters: {'n_neighbors': 2, 'weights': 'distance', 'p': 1}. Best is trial 10 with value: 0.12782595450318884.\n",
      "[I 2025-08-01 09:28:01,469] Trial 24 finished with value: 0.17973938022933117 and parameters: {'n_neighbors': 8, 'weights': 'distance', 'p': 1}. Best is trial 10 with value: 0.12782595450318884.\n",
      "[I 2025-08-01 09:28:02,373] Trial 25 finished with value: 0.14877404660802912 and parameters: {'n_neighbors': 4, 'weights': 'distance', 'p': 1}. Best is trial 10 with value: 0.12782595450318884.\n",
      "[I 2025-08-01 09:28:03,264] Trial 26 finished with value: 0.177037543305461 and parameters: {'n_neighbors': 6, 'weights': 'uniform', 'p': 1}. Best is trial 10 with value: 0.12782595450318884.\n",
      "[I 2025-08-01 09:28:05,200] Trial 27 finished with value: 0.21665081364459754 and parameters: {'n_neighbors': 16, 'weights': 'distance', 'p': 2}. Best is trial 10 with value: 0.12782595450318884.\n",
      "[I 2025-08-01 09:28:07,758] Trial 28 finished with value: 0.1387479373347485 and parameters: {'n_neighbors': 3, 'weights': 'distance', 'p': 1}. Best is trial 10 with value: 0.12782595450318884.\n",
      "[I 2025-08-01 09:28:08,986] Trial 29 finished with value: 0.23180454365017286 and parameters: {'n_neighbors': 11, 'weights': 'uniform', 'p': 2}. Best is trial 10 with value: 0.12782595450318884.\n",
      "[I 2025-08-01 09:28:10,014] Trial 30 finished with value: 0.18588483906714862 and parameters: {'n_neighbors': 9, 'weights': 'distance', 'p': 1}. Best is trial 10 with value: 0.12782595450318884.\n",
      "[I 2025-08-01 09:28:11,074] Trial 31 finished with value: 0.12782595450318884 and parameters: {'n_neighbors': 2, 'weights': 'distance', 'p': 1}. Best is trial 10 with value: 0.12782595450318884.\n",
      "[I 2025-08-01 09:28:12,843] Trial 32 finished with value: 0.12782595450318884 and parameters: {'n_neighbors': 2, 'weights': 'distance', 'p': 1}. Best is trial 10 with value: 0.12782595450318884.\n",
      "[I 2025-08-01 09:28:14,573] Trial 33 finished with value: 0.14877404660802912 and parameters: {'n_neighbors': 4, 'weights': 'distance', 'p': 1}. Best is trial 10 with value: 0.12782595450318884.\n",
      "[I 2025-08-01 09:28:15,547] Trial 34 finished with value: 0.1387479373347485 and parameters: {'n_neighbors': 3, 'weights': 'distance', 'p': 1}. Best is trial 10 with value: 0.12782595450318884.\n",
      "[I 2025-08-01 09:28:21,928] Trial 35 finished with value: 0.3454288199590393 and parameters: {'n_neighbors': 21, 'weights': 'uniform', 'p': 3}. Best is trial 10 with value: 0.12782595450318884.\n",
      "[I 2025-08-01 09:28:23,056] Trial 36 finished with value: 0.16576016531190968 and parameters: {'n_neighbors': 6, 'weights': 'distance', 'p': 1}. Best is trial 10 with value: 0.12782595450318884.\n",
      "[I 2025-08-01 09:28:24,150] Trial 37 finished with value: 0.16556635172510498 and parameters: {'n_neighbors': 6, 'weights': 'distance', 'p': 2}. Best is trial 10 with value: 0.12782595450318884.\n",
      "[I 2025-08-01 09:28:25,261] Trial 38 finished with value: 0.15610725876895404 and parameters: {'n_neighbors': 4, 'weights': 'uniform', 'p': 1}. Best is trial 10 with value: 0.12782595450318884.\n",
      "[I 2025-08-01 09:28:26,389] Trial 39 finished with value: 0.12832174411550157 and parameters: {'n_neighbors': 2, 'weights': 'distance', 'p': 2}. Best is trial 10 with value: 0.12782595450318884.\n",
      "[I 2025-08-01 09:28:27,829] Trial 40 finished with value: 0.22783616972018952 and parameters: {'n_neighbors': 23, 'weights': 'distance', 'p': 1}. Best is trial 10 with value: 0.12782595450318884.\n",
      "[I 2025-08-01 09:28:29,377] Trial 41 finished with value: 0.12782595450318884 and parameters: {'n_neighbors': 2, 'weights': 'distance', 'p': 1}. Best is trial 10 with value: 0.12782595450318884.\n",
      "[I 2025-08-01 09:28:30,353] Trial 42 finished with value: 0.1387479373347485 and parameters: {'n_neighbors': 3, 'weights': 'distance', 'p': 1}. Best is trial 10 with value: 0.12782595450318884.\n",
      "[I 2025-08-01 09:28:35,730] Trial 43 finished with value: 0.15773849579856075 and parameters: {'n_neighbors': 5, 'weights': 'distance', 'p': 1}. Best is trial 10 with value: 0.12782595450318884.\n",
      "[I 2025-08-01 09:28:41,153] Trial 44 finished with value: 0.1387479373347485 and parameters: {'n_neighbors': 3, 'weights': 'distance', 'p': 1}. Best is trial 10 with value: 0.12782595450318884.\n"
     ]
    },
    {
     "name": "stdout",
     "output_type": "stream",
     "text": [
      "\n",
      "\n",
      "Time taken to find the best combination of hyperparameters among the given ones:  71.6643 seconds\n",
      "\n",
      "\n",
      "The best combination of hyperparameters found was:  {'n_neighbors': 2, 'weights': 'distance', 'p': 1}\n",
      "The best R2 found was:  0.1278\n"
     ]
    }
   ],
   "source": [
    "confidence_level = 0.95\n",
    "folds = 10 # min 2, max- number of samples in train set (best number of folds 5 or 10)\n",
    "\n",
    "start_time = time.time()\n",
    "study = optuna.create_study(direction=\"minimize\") # We want to have the maximum values for the R2 scores\n",
    "study.optimize(lambda trial: tuneFunc.objective(trial, confidence_level, folds, X_train=X_train_over, y_train=y_train_over), n_trials=45)#  objective(trial, confidence_level, folds), n_trials=45)\n",
    "end_time = time.time()\n",
    "\n",
    "print(\"\\n\")\n",
    "print(f\"Time taken to find the best combination of hyperparameters among the given ones: {end_time - start_time: .4f} seconds\")\n",
    "print(\"\\n\")\n",
    "print(\"The best combination of hyperparameters found was: \", study.best_params)\n",
    "print(f\"The best R2 found was: {study.best_value: .4f}\")"
   ]
  },
  {
   "cell_type": "code",
   "execution_count": 52,
   "metadata": {},
   "outputs": [
    {
     "name": "stdout",
     "output_type": "stream",
     "text": [
      "The R2 confidence interval for the best combination of hyper parameters after Over sampling is: (np.float64(0.2906), np.float64(0.3704), np.float64(0.4502))\n"
     ]
    }
   ],
   "source": [
    "results = sorted([(index,\n",
    "  trial.user_attrs['CV_score_summary'][0],\n",
    "  trial.user_attrs['CV_score_summary'][1],\n",
    "  trial.user_attrs['CV_score_summary'][2]) for index, trial in enumerate(study.trials)], key=lambda x: x[2], reverse=True)\n",
    "\n",
    "print(f\"The R2 confidence interval for the best combination of hyper parameters after Over sampling is: {results[0][1:]}\")"
   ]
  },
  {
   "cell_type": "code",
   "execution_count": 53,
   "metadata": {},
   "outputs": [
    {
     "name": "stdout",
     "output_type": "stream",
     "text": [
      "Test MAE:  0.076\n",
      "Test MSE:  0.076\n",
      "Test RMSE:  0.276\n",
      "Test R2 score:   0.924\n"
     ]
    }
   ],
   "source": [
    "best_model = KNeighborsClassifier(**study.best_params)\n",
    "best_model.fit(X_train_over, y_train_over)\n",
    "y_pred_test_df = best_model.predict(X_test_num_norm)\n",
    "\n",
    "print(f\"Test MAE: {mean_absolute_error(y_pred_test_df, y_test): .3f}\")\n",
    "print(f\"Test MSE: {mean_squared_error(y_pred_test_df, y_test): .3f}\")\n",
    "print(f\"Test RMSE: {root_mean_squared_error(y_pred_test_df, y_test): .3f}\")\n",
    "print(f\"Test R2 score:  {best_model.score(X_test_num_norm, y_test): .3f}\")"
   ]
  },
  {
   "cell_type": "code",
   "execution_count": null,
   "metadata": {},
   "outputs": [],
   "source": []
  }
 ],
 "metadata": {
  "kernelspec": {
   "display_name": "dev-python-312",
   "language": "python",
   "name": "python3"
  },
  "language_info": {
   "codemirror_mode": {
    "name": "ipython",
    "version": 3
   },
   "file_extension": ".py",
   "mimetype": "text/x-python",
   "name": "python",
   "nbconvert_exporter": "python",
   "pygments_lexer": "ipython3",
   "version": "3.12.3"
  }
 },
 "nbformat": 4,
 "nbformat_minor": 4
}
