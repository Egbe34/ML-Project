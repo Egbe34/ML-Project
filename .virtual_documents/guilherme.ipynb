import pandas as pd
import numpy as np

import matplotlib.pyplot as plt
import seaborn as sns

from sklearn.model_selection import train_test_split
from sklearn.neighbors import KNeighborsRegressor

from sklearn.preprocessing import MinMaxScaler, StandardScaler 


df = pd.read_csv(r'..\ML-Project\data\raw\healthcare-dataset-stroke-data.csv')


df


df.isna().sum()


df.shape


df = df.drop(columns=['id'], axis=1)


df.head()


df["bmi"] = df["bmi"].fillna(df["bmi"].mean())


df.head()





from sklearn.preprocessing import OneHotEncoder



from sklearn.preprocessing import OneHotEncoder


ohe = OneHotEncoder(sparse_output=False)

ohe.fit(df[['gender','ever_married','work_type','Residence_type','smoking_status']])
df_ohe = ohe.transform(df[['gender','ever_married','work_type','Residence_type','smoking_status']])
df_ohe



